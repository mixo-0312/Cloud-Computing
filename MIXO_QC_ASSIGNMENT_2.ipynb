{
 "cells": [
  {
   "cell_type": "markdown",
   "id": "9a3596a6",
   "metadata": {},
   "source": [
    "### Question 1"
   ]
  },
  {
   "cell_type": "markdown",
   "id": "3531ff50",
   "metadata": {},
   "source": [
    "(b)"
   ]
  },
  {
   "cell_type": "code",
   "execution_count": 1,
   "id": "1d734b3b-1862-47f6-b6b2-41d4bba19fcd",
   "metadata": {},
   "outputs": [
    {
     "data": {
      "text/html": [
       "<html>\\(\\displaystyle \\left(\\begin{array}{rrrr}\n",
       "1 & 0 & 0 & 0 \\\\\n",
       "0 & 0 & 1 & 0 \\\\\n",
       "0 & 1 & 0 & 0 \\\\\n",
       "0 & 0 & 0 & 1\n",
       "\\end{array}\\right)\\)</html>"
      ],
      "text/latex": [
       "$\\displaystyle \\left(\\begin{array}{rrrr}\n",
       "1 & 0 & 0 & 0 \\\\\n",
       "0 & 0 & 1 & 0 \\\\\n",
       "0 & 1 & 0 & 0 \\\\\n",
       "0 & 0 & 0 & 1\n",
       "\\end{array}\\right)$"
      ],
      "text/plain": [
       "[1 0 0 0]\n",
       "[0 0 1 0]\n",
       "[0 1 0 0]\n",
       "[0 0 0 1]"
      ]
     },
     "metadata": {},
     "output_type": "display_data"
    }
   ],
   "source": [
    "S=matrix([[1, 0, 0, 0],[0, 0, 1, 0],[0, 1, 0, 0],[0, 0, 0, 1]])\n",
    "show(S)"
   ]
  },
  {
   "cell_type": "code",
   "execution_count": 2,
   "id": "68222216",
   "metadata": {},
   "outputs": [],
   "source": [
    "#identity matrix\n",
    "I_d=matrix([[1,0],[0,1]])\n"
   ]
  },
  {
   "cell_type": "code",
   "execution_count": 3,
   "id": "afaf837f",
   "metadata": {},
   "outputs": [
    {
     "data": {
      "text/html": [
       "<html>\\(\\displaystyle \\left(\\begin{array}{rr}\n",
       "1 & 0 \\\\\n",
       "0 & 1\n",
       "\\end{array}\\right)\\)</html>"
      ],
      "text/latex": [
       "$\\displaystyle \\left(\\begin{array}{rr}\n",
       "1 & 0 \\\\\n",
       "0 & 1\n",
       "\\end{array}\\right)$"
      ],
      "text/plain": [
       "[1 0]\n",
       "[0 1]"
      ]
     },
     "metadata": {},
     "output_type": "display_data"
    }
   ],
   "source": [
    "show(I_d)"
   ]
  },
  {
   "cell_type": "code",
   "execution_count": 4,
   "id": "d7dbafe4",
   "metadata": {},
   "outputs": [],
   "source": [
    "#A matrix\n",
    "a1,a2,a3,a4=var(\"a1\",\"a2\",\"a3\",\"a4\")\n",
    "A=matrix([[a1,a2],[a3,a4]])"
   ]
  },
  {
   "cell_type": "code",
   "execution_count": 5,
   "id": "7a3c8ee3",
   "metadata": {},
   "outputs": [
    {
     "data": {
      "text/html": [
       "<html>\\(\\displaystyle \\left(\\begin{array}{rr}\n",
       "a_{1} & a_{2} \\\\\n",
       "a_{3} & a_{4}\n",
       "\\end{array}\\right)\\)</html>"
      ],
      "text/latex": [
       "$\\displaystyle \\left(\\begin{array}{rr}\n",
       "a_{1} & a_{2} \\\\\n",
       "a_{3} & a_{4}\n",
       "\\end{array}\\right)$"
      ],
      "text/plain": [
       "[a1 a2]\n",
       "[a3 a4]"
      ]
     },
     "metadata": {},
     "output_type": "display_data"
    }
   ],
   "source": [
    "show(A)"
   ]
  },
  {
   "cell_type": "code",
   "execution_count": 6,
   "id": "1f3b92f3",
   "metadata": {},
   "outputs": [
    {
     "data": {
      "text/html": [
       "<html>\\(\\displaystyle \\left(\\begin{array}{rr|rr}\n",
       "a_{1} & 0 & a_{2} & 0 \\\\\n",
       "0 & a_{1} & 0 & a_{2} \\\\\n",
       "\\hline\n",
       " a_{3} & 0 & a_{4} & 0 \\\\\n",
       "0 & a_{3} & 0 & a_{4}\n",
       "\\end{array}\\right)\\)</html>"
      ],
      "text/latex": [
       "$\\displaystyle \\left(\\begin{array}{rr|rr}\n",
       "a_{1} & 0 & a_{2} & 0 \\\\\n",
       "0 & a_{1} & 0 & a_{2} \\\\\n",
       "\\hline\n",
       " a_{3} & 0 & a_{4} & 0 \\\\\n",
       "0 & a_{3} & 0 & a_{4}\n",
       "\\end{array}\\right)$"
      ],
      "text/plain": [
       "[a1  0|a2  0]\n",
       "[ 0 a1| 0 a2]\n",
       "[-----+-----]\n",
       "[a3  0|a4  0]\n",
       "[ 0 a3| 0 a4]"
      ]
     },
     "metadata": {},
     "output_type": "display_data"
    }
   ],
   "source": [
    "A_1=A.tensor_product(I_d)\n",
    "show(A_1)"
   ]
  },
  {
   "cell_type": "code",
   "execution_count": 7,
   "id": "577e03ab",
   "metadata": {},
   "outputs": [
    {
     "data": {
      "text/html": [
       "<html>\\(\\displaystyle \\left(\\begin{array}{rr|rr}\n",
       "a_{1} & a_{2} & 0 & 0 \\\\\n",
       "a_{3} & a_{4} & 0 & 0 \\\\\n",
       "\\hline\n",
       " 0 & 0 & a_{1} & a_{2} \\\\\n",
       "0 & 0 & a_{3} & a_{4}\n",
       "\\end{array}\\right)\\)</html>"
      ],
      "text/latex": [
       "$\\displaystyle \\left(\\begin{array}{rr|rr}\n",
       "a_{1} & a_{2} & 0 & 0 \\\\\n",
       "a_{3} & a_{4} & 0 & 0 \\\\\n",
       "\\hline\n",
       " 0 & 0 & a_{1} & a_{2} \\\\\n",
       "0 & 0 & a_{3} & a_{4}\n",
       "\\end{array}\\right)$"
      ],
      "text/plain": [
       "[a1 a2| 0  0]\n",
       "[a3 a4| 0  0]\n",
       "[-----+-----]\n",
       "[ 0  0|a1 a2]\n",
       "[ 0  0|a3 a4]"
      ]
     },
     "metadata": {},
     "output_type": "display_data"
    }
   ],
   "source": [
    "A_0=I_d.tensor_product(A)\n",
    "show(A_0)"
   ]
  },
  {
   "cell_type": "code",
   "execution_count": 8,
   "id": "2628b382",
   "metadata": {},
   "outputs": [
    {
     "data": {
      "text/html": [
       "<html>\\(\\displaystyle \\left(\\begin{array}{rrrr}\n",
       "a_{1} & 0 & a_{2} & 0 \\\\\n",
       "0 & a_{1} & 0 & a_{2} \\\\\n",
       "a_{3} & 0 & a_{4} & 0 \\\\\n",
       "0 & a_{3} & 0 & a_{4}\n",
       "\\end{array}\\right)\\)</html>"
      ],
      "text/latex": [
       "$\\displaystyle \\left(\\begin{array}{rrrr}\n",
       "a_{1} & 0 & a_{2} & 0 \\\\\n",
       "0 & a_{1} & 0 & a_{2} \\\\\n",
       "a_{3} & 0 & a_{4} & 0 \\\\\n",
       "0 & a_{3} & 0 & a_{4}\n",
       "\\end{array}\\right)$"
      ],
      "text/plain": [
       "[a1  0 a2  0]\n",
       "[ 0 a1  0 a2]\n",
       "[a3  0 a4  0]\n",
       "[ 0 a3  0 a4]"
      ]
     },
     "metadata": {},
     "output_type": "display_data"
    }
   ],
   "source": [
    "A_11=S*A_0*S\n",
    "show(A_11)"
   ]
  },
  {
   "cell_type": "code",
   "execution_count": 9,
   "id": "d1cba76d",
   "metadata": {},
   "outputs": [
    {
     "data": {
      "text/html": [
       "<html>\\(\\displaystyle \\left(\\begin{array}{rrrr}\n",
       "a_{1} & a_{2} & 0 & 0 \\\\\n",
       "a_{3} & a_{4} & 0 & 0 \\\\\n",
       "0 & 0 & a_{1} & a_{2} \\\\\n",
       "0 & 0 & a_{3} & a_{4}\n",
       "\\end{array}\\right)\\)</html>"
      ],
      "text/latex": [
       "$\\displaystyle \\left(\\begin{array}{rrrr}\n",
       "a_{1} & a_{2} & 0 & 0 \\\\\n",
       "a_{3} & a_{4} & 0 & 0 \\\\\n",
       "0 & 0 & a_{1} & a_{2} \\\\\n",
       "0 & 0 & a_{3} & a_{4}\n",
       "\\end{array}\\right)$"
      ],
      "text/plain": [
       "[a1 a2  0  0]\n",
       "[a3 a4  0  0]\n",
       "[ 0  0 a1 a2]\n",
       "[ 0  0 a3 a4]"
      ]
     },
     "metadata": {},
     "output_type": "display_data"
    }
   ],
   "source": [
    "A_22=S*A_1*S\n",
    "show(A_22)"
   ]
  },
  {
   "cell_type": "markdown",
   "id": "84f3d934",
   "metadata": {},
   "source": [
    "Therefore $A_1=S_{10}A_0S_{10} $ and\n",
    "$A_0=S_{10}A_1S_{10}$"
   ]
  },
  {
   "cell_type": "code",
   "execution_count": null,
   "id": "b60dcceb",
   "metadata": {},
   "outputs": [],
   "source": []
  },
  {
   "cell_type": "markdown",
   "id": "87d9fe88",
   "metadata": {},
   "source": [
    "### QUESTION 2"
   ]
  },
  {
   "cell_type": "markdown",
   "id": "cc9b1890-6bcc-4970-8ab8-4739b736f7c7",
   "metadata": {},
   "source": [
    "(b)"
   ]
  },
  {
   "cell_type": "code",
   "execution_count": 10,
   "id": "02c632d7",
   "metadata": {},
   "outputs": [
    {
     "data": {
      "text/html": [
       "<html>\\(\\displaystyle \\left(\\begin{array}{rrrr}\n",
       "1 & 0 & 0 & 0 \\\\\n",
       "0 & 1 & 0 & 0 \\\\\n",
       "0 & 0 & 0 & 1 \\\\\n",
       "0 & 0 & 1 & 0\n",
       "\\end{array}\\right)\\)</html>"
      ],
      "text/latex": [
       "$\\displaystyle \\left(\\begin{array}{rrrr}\n",
       "1 & 0 & 0 & 0 \\\\\n",
       "0 & 1 & 0 & 0 \\\\\n",
       "0 & 0 & 0 & 1 \\\\\n",
       "0 & 0 & 1 & 0\n",
       "\\end{array}\\right)$"
      ],
      "text/plain": [
       "[1 0 0 0]\n",
       "[0 1 0 0]\n",
       "[0 0 0 1]\n",
       "[0 0 1 0]"
      ]
     },
     "metadata": {},
     "output_type": "display_data"
    }
   ],
   "source": [
    "C_x10=matrix([[1,0,0,0],[0,1,0,0],[0,0,0,1],[0,0,1,0]])\n",
    "show(C_x10)"
   ]
  },
  {
   "cell_type": "code",
   "execution_count": 11,
   "id": "78d51c99",
   "metadata": {},
   "outputs": [
    {
     "data": {
      "text/html": [
       "<html>\\(\\displaystyle \\left(\\begin{array}{rrrr}\n",
       "1 & 0 & 0 & 0 \\\\\n",
       "0 & 0 & 0 & 1 \\\\\n",
       "0 & 0 & 1 & 0 \\\\\n",
       "0 & 1 & 0 & 0\n",
       "\\end{array}\\right)\\)</html>"
      ],
      "text/latex": [
       "$\\displaystyle \\left(\\begin{array}{rrrr}\n",
       "1 & 0 & 0 & 0 \\\\\n",
       "0 & 0 & 0 & 1 \\\\\n",
       "0 & 0 & 1 & 0 \\\\\n",
       "0 & 1 & 0 & 0\n",
       "\\end{array}\\right)$"
      ],
      "text/plain": [
       "[1 0 0 0]\n",
       "[0 0 0 1]\n",
       "[0 0 1 0]\n",
       "[0 1 0 0]"
      ]
     },
     "metadata": {},
     "output_type": "display_data"
    }
   ],
   "source": [
    "C_x01=matrix([[1,0,0,0],[0,0,0,1],[0,0,1,0],[0,1,0,0]])\n",
    "show(C_x01)"
   ]
  },
  {
   "cell_type": "code",
   "execution_count": 12,
   "id": "a00d4caf",
   "metadata": {},
   "outputs": [
    {
     "data": {
      "text/html": [
       "<html>\\(\\displaystyle \\left(\\begin{array}{rrrr}\n",
       "1 & 0 & 0 & 0 \\\\\n",
       "0 & 0 & 1 & 0 \\\\\n",
       "0 & 1 & 0 & 0 \\\\\n",
       "0 & 0 & 0 & 1\n",
       "\\end{array}\\right)\\)</html>"
      ],
      "text/latex": [
       "$\\displaystyle \\left(\\begin{array}{rrrr}\n",
       "1 & 0 & 0 & 0 \\\\\n",
       "0 & 0 & 1 & 0 \\\\\n",
       "0 & 1 & 0 & 0 \\\\\n",
       "0 & 0 & 0 & 1\n",
       "\\end{array}\\right)$"
      ],
      "text/plain": [
       "[1 0 0 0]\n",
       "[0 0 1 0]\n",
       "[0 1 0 0]\n",
       "[0 0 0 1]"
      ]
     },
     "metadata": {},
     "output_type": "display_data"
    }
   ],
   "source": [
    "#S10\n",
    "S_102=matrix([[1, 0, 0, 0],[0, 0, 1, 0],[0, 1, 0, 0],[0, 0, 0, 1]])\n",
    "show(S_102)"
   ]
  },
  {
   "cell_type": "code",
   "execution_count": 13,
   "id": "23e3636e",
   "metadata": {},
   "outputs": [
    {
     "data": {
      "text/html": [
       "<html>\\(\\displaystyle \\left(\\begin{array}{rrrr}\n",
       "1 & 0 & 0 & 0 \\\\\n",
       "0 & 0 & 1 & 0 \\\\\n",
       "0 & 1 & 0 & 0 \\\\\n",
       "0 & 0 & 0 & 1\n",
       "\\end{array}\\right)\\)</html>"
      ],
      "text/latex": [
       "$\\displaystyle \\left(\\begin{array}{rrrr}\n",
       "1 & 0 & 0 & 0 \\\\\n",
       "0 & 0 & 1 & 0 \\\\\n",
       "0 & 1 & 0 & 0 \\\\\n",
       "0 & 0 & 0 & 1\n",
       "\\end{array}\\right)$"
      ],
      "text/plain": [
       "[1 0 0 0]\n",
       "[0 0 1 0]\n",
       "[0 1 0 0]\n",
       "[0 0 0 1]"
      ]
     },
     "metadata": {},
     "output_type": "display_data"
    }
   ],
   "source": [
    "S_1022=C_x10*C_x01*C_x10\n",
    "show(S_1022)"
   ]
  },
  {
   "cell_type": "markdown",
   "id": "46acf996",
   "metadata": {},
   "source": [
    "Therefore $S_{102} =S_{1022}$\n",
    "which the same as $S_{10}=C^x_{10}C^x_{01}C^x_{10}$"
   ]
  },
  {
   "cell_type": "code",
   "execution_count": null,
   "id": "410bfd84",
   "metadata": {},
   "outputs": [],
   "source": []
  },
  {
   "cell_type": "markdown",
   "id": "179a6642",
   "metadata": {},
   "source": [
    "### Question 3"
   ]
  },
  {
   "cell_type": "code",
   "execution_count": 14,
   "id": "e2640c2b",
   "metadata": {},
   "outputs": [
    {
     "data": {
      "text/html": [
       "<html>\\(\\displaystyle \\left(\\begin{array}{rrrr}\n",
       "1 & 0 & 0 & 0 \\\\\n",
       "0 & 0 & 0 & 1 \\\\\n",
       "0 & 0 & 1 & 0 \\\\\n",
       "0 & 1 & 0 & 0\n",
       "\\end{array}\\right)\\)</html>"
      ],
      "text/latex": [
       "$\\displaystyle \\left(\\begin{array}{rrrr}\n",
       "1 & 0 & 0 & 0 \\\\\n",
       "0 & 0 & 0 & 1 \\\\\n",
       "0 & 0 & 1 & 0 \\\\\n",
       "0 & 1 & 0 & 0\n",
       "\\end{array}\\right)$"
      ],
      "text/plain": [
       "[1 0 0 0]\n",
       "[0 0 0 1]\n",
       "[0 0 1 0]\n",
       "[0 1 0 0]"
      ]
     },
     "metadata": {},
     "output_type": "display_data"
    }
   ],
   "source": [
    "C_x01=matrix([[1,0,0,0],[0,0,0,1],[0,0,1,0],[0,1,0,0]])\n",
    "show(C_x01)"
   ]
  },
  {
   "cell_type": "code",
   "execution_count": 15,
   "id": "f95a765a",
   "metadata": {},
   "outputs": [
    {
     "data": {
      "text/html": [
       "<html>\\(\\displaystyle \\left(\\begin{array}{rr}\n",
       "0 & 1 \\\\\n",
       "1 & 0\n",
       "\\end{array}\\right)\\)</html>"
      ],
      "text/latex": [
       "$\\displaystyle \\left(\\begin{array}{rr}\n",
       "0 & 1 \\\\\n",
       "1 & 0\n",
       "\\end{array}\\right)$"
      ],
      "text/plain": [
       "[0 1]\n",
       "[1 0]"
      ]
     },
     "metadata": {},
     "output_type": "display_data"
    }
   ],
   "source": [
    "X=matrix([[0,1],[1,0]])\n",
    "show(X)"
   ]
  },
  {
   "cell_type": "code",
   "execution_count": 16,
   "id": "308cb2c5",
   "metadata": {},
   "outputs": [
    {
     "data": {
      "text/html": [
       "<html>\\(\\displaystyle \\left(\\begin{array}{rr}\n",
       "1 & 0 \\\\\n",
       "0 & -1\n",
       "\\end{array}\\right)\\)</html>"
      ],
      "text/latex": [
       "$\\displaystyle \\left(\\begin{array}{rr}\n",
       "1 & 0 \\\\\n",
       "0 & -1\n",
       "\\end{array}\\right)$"
      ],
      "text/plain": [
       "[ 1  0]\n",
       "[ 0 -1]"
      ]
     },
     "metadata": {},
     "output_type": "display_data"
    }
   ],
   "source": [
    "Z=matrix([[1,0],[0,-1]])\n",
    "show(Z)"
   ]
  },
  {
   "cell_type": "code",
   "execution_count": 17,
   "id": "02bb0061",
   "metadata": {},
   "outputs": [
    {
     "data": {
      "text/html": [
       "<html>\\(\\displaystyle \\left(\\begin{array}{rr}\n",
       "\\frac{1}{2} \\, \\sqrt{2} & \\frac{1}{2} \\, \\sqrt{2} \\\\\n",
       "\\frac{1}{2} \\, \\sqrt{2} & -\\frac{1}{2} \\, \\sqrt{2}\n",
       "\\end{array}\\right)\\)</html>"
      ],
      "text/latex": [
       "$\\displaystyle \\left(\\begin{array}{rr}\n",
       "\\frac{1}{2} \\, \\sqrt{2} & \\frac{1}{2} \\, \\sqrt{2} \\\\\n",
       "\\frac{1}{2} \\, \\sqrt{2} & -\\frac{1}{2} \\, \\sqrt{2}\n",
       "\\end{array}\\right)$"
      ],
      "text/plain": [
       "[ 1/2*sqrt(2)  1/2*sqrt(2)]\n",
       "[ 1/2*sqrt(2) -1/2*sqrt(2)]"
      ]
     },
     "metadata": {},
     "output_type": "display_data"
    }
   ],
   "source": [
    "H=1/sqrt(2)*(X+Z)\n",
    "show(H)"
   ]
  },
  {
   "cell_type": "code",
   "execution_count": 18,
   "id": "a6de08c9",
   "metadata": {},
   "outputs": [
    {
     "data": {
      "text/html": [
       "<html>\\(\\displaystyle \\left(\\begin{array}{rr|rr}\n",
       "\\frac{1}{2} \\, \\sqrt{2} & 0 & \\frac{1}{2} \\, \\sqrt{2} & 0 \\\\\n",
       "0 & \\frac{1}{2} \\, \\sqrt{2} & 0 & \\frac{1}{2} \\, \\sqrt{2} \\\\\n",
       "\\hline\n",
       " \\frac{1}{2} \\, \\sqrt{2} & 0 & -\\frac{1}{2} \\, \\sqrt{2} & 0 \\\\\n",
       "0 & \\frac{1}{2} \\, \\sqrt{2} & 0 & -\\frac{1}{2} \\, \\sqrt{2}\n",
       "\\end{array}\\right)\\)</html>"
      ],
      "text/latex": [
       "$\\displaystyle \\left(\\begin{array}{rr|rr}\n",
       "\\frac{1}{2} \\, \\sqrt{2} & 0 & \\frac{1}{2} \\, \\sqrt{2} & 0 \\\\\n",
       "0 & \\frac{1}{2} \\, \\sqrt{2} & 0 & \\frac{1}{2} \\, \\sqrt{2} \\\\\n",
       "\\hline\n",
       " \\frac{1}{2} \\, \\sqrt{2} & 0 & -\\frac{1}{2} \\, \\sqrt{2} & 0 \\\\\n",
       "0 & \\frac{1}{2} \\, \\sqrt{2} & 0 & -\\frac{1}{2} \\, \\sqrt{2}\n",
       "\\end{array}\\right)$"
      ],
      "text/plain": [
       "[ 1/2*sqrt(2)            0| 1/2*sqrt(2)            0]\n",
       "[           0  1/2*sqrt(2)|           0  1/2*sqrt(2)]\n",
       "[-------------------------+-------------------------]\n",
       "[ 1/2*sqrt(2)            0|-1/2*sqrt(2)            0]\n",
       "[           0  1/2*sqrt(2)|           0 -1/2*sqrt(2)]"
      ]
     },
     "metadata": {},
     "output_type": "display_data"
    }
   ],
   "source": [
    "H1=H.tensor_product(I_d)\n",
    "show(H1)"
   ]
  },
  {
   "cell_type": "code",
   "execution_count": 19,
   "id": "6c1ae278",
   "metadata": {},
   "outputs": [
    {
     "data": {
      "text/html": [
       "<html>\\(\\displaystyle \\left(\\begin{array}{rr|rr}\n",
       "\\frac{1}{2} \\, \\sqrt{2} & \\frac{1}{2} \\, \\sqrt{2} & 0 & 0 \\\\\n",
       "\\frac{1}{2} \\, \\sqrt{2} & -\\frac{1}{2} \\, \\sqrt{2} & 0 & 0 \\\\\n",
       "\\hline\n",
       " 0 & 0 & \\frac{1}{2} \\, \\sqrt{2} & \\frac{1}{2} \\, \\sqrt{2} \\\\\n",
       "0 & 0 & \\frac{1}{2} \\, \\sqrt{2} & -\\frac{1}{2} \\, \\sqrt{2}\n",
       "\\end{array}\\right)\\)</html>"
      ],
      "text/latex": [
       "$\\displaystyle \\left(\\begin{array}{rr|rr}\n",
       "\\frac{1}{2} \\, \\sqrt{2} & \\frac{1}{2} \\, \\sqrt{2} & 0 & 0 \\\\\n",
       "\\frac{1}{2} \\, \\sqrt{2} & -\\frac{1}{2} \\, \\sqrt{2} & 0 & 0 \\\\\n",
       "\\hline\n",
       " 0 & 0 & \\frac{1}{2} \\, \\sqrt{2} & \\frac{1}{2} \\, \\sqrt{2} \\\\\n",
       "0 & 0 & \\frac{1}{2} \\, \\sqrt{2} & -\\frac{1}{2} \\, \\sqrt{2}\n",
       "\\end{array}\\right)$"
      ],
      "text/plain": [
       "[ 1/2*sqrt(2)  1/2*sqrt(2)|           0            0]\n",
       "[ 1/2*sqrt(2) -1/2*sqrt(2)|           0            0]\n",
       "[-------------------------+-------------------------]\n",
       "[           0            0| 1/2*sqrt(2)  1/2*sqrt(2)]\n",
       "[           0            0| 1/2*sqrt(2) -1/2*sqrt(2)]"
      ]
     },
     "metadata": {},
     "output_type": "display_data"
    }
   ],
   "source": [
    "H0=I_d.tensor_product(H)\n",
    "show(H0)"
   ]
  },
  {
   "cell_type": "code",
   "execution_count": 20,
   "id": "ddc17b0c",
   "metadata": {},
   "outputs": [
    {
     "data": {
      "text/html": [
       "<html>\\(\\displaystyle \\left(\\begin{array}{rrrr}\n",
       "1 & 0 & 0 & 0 \\\\\n",
       "0 & 1 & 0 & 0 \\\\\n",
       "0 & 0 & 1 & 0 \\\\\n",
       "0 & 0 & 0 & -1\n",
       "\\end{array}\\right)\\)</html>"
      ],
      "text/latex": [
       "$\\displaystyle \\left(\\begin{array}{rrrr}\n",
       "1 & 0 & 0 & 0 \\\\\n",
       "0 & 1 & 0 & 0 \\\\\n",
       "0 & 0 & 1 & 0 \\\\\n",
       "0 & 0 & 0 & -1\n",
       "\\end{array}\\right)$"
      ],
      "text/plain": [
       "[ 1  0  0  0]\n",
       "[ 0  1  0  0]\n",
       "[ 0  0  1  0]\n",
       "[ 0  0  0 -1]"
      ]
     },
     "metadata": {},
     "output_type": "display_data"
    }
   ],
   "source": [
    "CZ=matrix([[1,0,0,0],[0,1,0,0],[0,0,1,0],[0,0,0,-1]])\n",
    "show(CZ)"
   ]
  },
  {
   "cell_type": "markdown",
   "id": "3a3c89c6",
   "metadata": {},
   "source": [
    "(a)"
   ]
  },
  {
   "cell_type": "code",
   "execution_count": 21,
   "id": "15631364",
   "metadata": {},
   "outputs": [
    {
     "data": {
      "text/html": [
       "<html>\\(\\displaystyle \\left(\\begin{array}{rr}\n",
       "1 & 0 \\\\\n",
       "0 & 1\n",
       "\\end{array}\\right)\\)</html>"
      ],
      "text/latex": [
       "$\\displaystyle \\left(\\begin{array}{rr}\n",
       "1 & 0 \\\\\n",
       "0 & 1\n",
       "\\end{array}\\right)$"
      ],
      "text/plain": [
       "[1 0]\n",
       "[0 1]"
      ]
     },
     "metadata": {},
     "output_type": "display_data"
    }
   ],
   "source": [
    "#H^2\n",
    "H_2=H^2\n",
    "show(H_2)"
   ]
  },
  {
   "cell_type": "markdown",
   "id": "a9c47d36",
   "metadata": {},
   "source": [
    "Therefore H^2=I"
   ]
  },
  {
   "cell_type": "markdown",
   "id": "a2867d70",
   "metadata": {},
   "source": [
    "(b)"
   ]
  },
  {
   "cell_type": "code",
   "execution_count": 22,
   "id": "ebb29c78",
   "metadata": {},
   "outputs": [
    {
     "data": {
      "text/html": [
       "<html>\\(\\displaystyle \\left(\\begin{array}{rr}\n",
       "1 & 0 \\\\\n",
       "0 & -1\n",
       "\\end{array}\\right)\\)</html>"
      ],
      "text/latex": [
       "$\\displaystyle \\left(\\begin{array}{rr}\n",
       "1 & 0 \\\\\n",
       "0 & -1\n",
       "\\end{array}\\right)$"
      ],
      "text/plain": [
       "[ 1  0]\n",
       "[ 0 -1]"
      ]
     },
     "metadata": {},
     "output_type": "display_data"
    }
   ],
   "source": [
    "#HXH=Z\n",
    "H_22=H*X*H\n",
    "show(H_22)"
   ]
  },
  {
   "cell_type": "markdown",
   "id": "feab066e",
   "metadata": {},
   "source": [
    "Therefore HXH=Z"
   ]
  },
  {
   "cell_type": "markdown",
   "id": "34711be0",
   "metadata": {},
   "source": [
    "(c)"
   ]
  },
  {
   "cell_type": "code",
   "execution_count": 23,
   "id": "cfdc2f79",
   "metadata": {},
   "outputs": [
    {
     "data": {
      "text/html": [
       "<html>\\(\\displaystyle \\left(\\begin{array}{rr}\n",
       "0 & 1 \\\\\n",
       "1 & 0\n",
       "\\end{array}\\right)\\)</html>"
      ],
      "text/latex": [
       "$\\displaystyle \\left(\\begin{array}{rr}\n",
       "0 & 1 \\\\\n",
       "1 & 0\n",
       "\\end{array}\\right)$"
      ],
      "text/plain": [
       "[0 1]\n",
       "[1 0]"
      ]
     },
     "metadata": {},
     "output_type": "display_data"
    }
   ],
   "source": [
    "#HZH=X\n",
    "H_222=H*Z*H\n",
    "show(H_222)"
   ]
  },
  {
   "cell_type": "markdown",
   "id": "2e79c2f3",
   "metadata": {},
   "source": [
    "Therefore HZH=X"
   ]
  },
  {
   "cell_type": "markdown",
   "id": "cfbac203",
   "metadata": {},
   "source": [
    "(d)"
   ]
  },
  {
   "cell_type": "code",
   "execution_count": 24,
   "id": "f9744b55",
   "metadata": {},
   "outputs": [
    {
     "data": {
      "text/html": [
       "<html>\\(\\displaystyle \\left(\\begin{array}{rrrr}\n",
       "1 & 0 & 0 & 0 \\\\\n",
       "0 & 1 & 0 & 0 \\\\\n",
       "0 & 0 & 0 & 1 \\\\\n",
       "0 & 0 & 1 & 0\n",
       "\\end{array}\\right)\\)</html>"
      ],
      "text/latex": [
       "$\\displaystyle \\left(\\begin{array}{rrrr}\n",
       "1 & 0 & 0 & 0 \\\\\n",
       "0 & 1 & 0 & 0 \\\\\n",
       "0 & 0 & 0 & 1 \\\\\n",
       "0 & 0 & 1 & 0\n",
       "\\end{array}\\right)$"
      ],
      "text/plain": [
       "[1 0 0 0]\n",
       "[0 1 0 0]\n",
       "[0 0 0 1]\n",
       "[0 0 1 0]"
      ]
     },
     "metadata": {},
     "output_type": "display_data"
    }
   ],
   "source": [
    "#C^X_10=H_1C^x_{01}H_1H_0\n",
    "H_2222=H1*H0*C_x01*H1*H0\n",
    "show(H_2222)"
   ]
  },
  {
   "cell_type": "markdown",
   "id": "410d56dc",
   "metadata": {},
   "source": [
    "Therefore $C^x_{10}=H_1C^x_{01}H_1H_0$"
   ]
  },
  {
   "cell_type": "markdown",
   "id": "a7b883e2",
   "metadata": {},
   "source": [
    "(e)"
   ]
  },
  {
   "cell_type": "code",
   "execution_count": 25,
   "id": "150da48d",
   "metadata": {},
   "outputs": [
    {
     "data": {
      "text/html": [
       "<html>\\(\\displaystyle \\left(\\begin{array}{rrrr}\n",
       "1 & 0 & 0 & 0 \\\\\n",
       "0 & 1 & 0 & 0 \\\\\n",
       "0 & 0 & 1 & 0 \\\\\n",
       "0 & 0 & 0 & -1\n",
       "\\end{array}\\right)\\)</html>"
      ],
      "text/latex": [
       "$\\displaystyle \\left(\\begin{array}{rrrr}\n",
       "1 & 0 & 0 & 0 \\\\\n",
       "0 & 1 & 0 & 0 \\\\\n",
       "0 & 0 & 1 & 0 \\\\\n",
       "0 & 0 & 0 & -1\n",
       "\\end{array}\\right)$"
      ],
      "text/plain": [
       "[ 1  0  0  0]\n",
       "[ 0  1  0  0]\n",
       "[ 0  0  1  0]\n",
       "[ 0  0  0 -1]"
      ]
     },
     "metadata": {},
     "output_type": "display_data"
    }
   ],
   "source": [
    "#c^z=H_C^x_{01}H_1=H_0C^x_{10}H_0\n",
    "CZZ=H1*C_x01*H1\n",
    "show(CZZ)"
   ]
  },
  {
   "cell_type": "code",
   "execution_count": 26,
   "id": "5f078575",
   "metadata": {},
   "outputs": [
    {
     "data": {
      "text/html": [
       "<html>\\(\\displaystyle \\left(\\begin{array}{rrrr}\n",
       "1 & 0 & 0 & 0 \\\\\n",
       "0 & 1 & 0 & 0 \\\\\n",
       "0 & 0 & 1 & 0 \\\\\n",
       "0 & 0 & 0 & -1\n",
       "\\end{array}\\right)\\)</html>"
      ],
      "text/latex": [
       "$\\displaystyle \\left(\\begin{array}{rrrr}\n",
       "1 & 0 & 0 & 0 \\\\\n",
       "0 & 1 & 0 & 0 \\\\\n",
       "0 & 0 & 1 & 0 \\\\\n",
       "0 & 0 & 0 & -1\n",
       "\\end{array}\\right)$"
      ],
      "text/plain": [
       "[ 1  0  0  0]\n",
       "[ 0  1  0  0]\n",
       "[ 0  0  1  0]\n",
       "[ 0  0  0 -1]"
      ]
     },
     "metadata": {},
     "output_type": "display_data"
    }
   ],
   "source": [
    "CZZZ=H0*C_x10*H0\n",
    "show(CZZZ)"
   ]
  },
  {
   "cell_type": "markdown",
   "id": "ac4d4c3b",
   "metadata": {},
   "source": [
    "Therefore $c^z=H_1C^x_{01}H_1=H_0C^x_{10}H_0$"
   ]
  },
  {
   "cell_type": "code",
   "execution_count": null,
   "id": "17cbd6e9",
   "metadata": {},
   "outputs": [],
   "source": []
  },
  {
   "cell_type": "markdown",
   "id": "4871c8c5",
   "metadata": {},
   "source": [
    "### QUESTION 4"
   ]
  },
  {
   "cell_type": "code",
   "execution_count": 27,
   "id": "bb76e629",
   "metadata": {},
   "outputs": [
    {
     "data": {
      "text/html": [
       "<html>\\(\\displaystyle \\left(\\begin{array}{r}\n",
       "1 \\\\\n",
       "0\n",
       "\\end{array}\\right)\\)</html>"
      ],
      "text/latex": [
       "$\\displaystyle \\left(\\begin{array}{r}\n",
       "1 \\\\\n",
       "0\n",
       "\\end{array}\\right)$"
      ],
      "text/plain": [
       "[1]\n",
       "[0]"
      ]
     },
     "metadata": {},
     "output_type": "display_data"
    }
   ],
   "source": [
    "zero=matrix([[1],[0]])\n",
    "show(zero)"
   ]
  },
  {
   "cell_type": "code",
   "execution_count": 28,
   "id": "2de016c2",
   "metadata": {},
   "outputs": [
    {
     "data": {
      "text/html": [
       "<html>\\(\\displaystyle \\left(\\begin{array}{r}\n",
       "1 \\\\\n",
       "0\n",
       "\\end{array}\\right)\\)</html>"
      ],
      "text/latex": [
       "$\\displaystyle \\left(\\begin{array}{r}\n",
       "1 \\\\\n",
       "0\n",
       "\\end{array}\\right)$"
      ],
      "text/plain": [
       "[1]\n",
       "[0]"
      ]
     },
     "metadata": {},
     "output_type": "display_data"
    }
   ],
   "source": [
    "zero_1=matrix([[1],[0]])\n",
    "show(zero_1)"
   ]
  },
  {
   "cell_type": "code",
   "execution_count": 29,
   "id": "39dcdee7",
   "metadata": {},
   "outputs": [
    {
     "data": {
      "text/html": [
       "<html>\\(\\displaystyle \\left(\\begin{array}{r}\n",
       "1 \\\\\n",
       "0 \\\\\n",
       "\\hline\n",
       " 0 \\\\\n",
       "0\n",
       "\\end{array}\\right)\\)</html>"
      ],
      "text/latex": [
       "$\\displaystyle \\left(\\begin{array}{r}\n",
       "1 \\\\\n",
       "0 \\\\\n",
       "\\hline\n",
       " 0 \\\\\n",
       "0\n",
       "\\end{array}\\right)$"
      ],
      "text/plain": [
       "[1]\n",
       "[0]\n",
       "[-]\n",
       "[0]\n",
       "[0]"
      ]
     },
     "metadata": {},
     "output_type": "display_data"
    }
   ],
   "source": [
    "zero_2=zero.tensor_product(zero_1)\n",
    "show(zero_2)"
   ]
  },
  {
   "cell_type": "markdown",
   "id": "5255be24",
   "metadata": {},
   "source": [
    "(b)"
   ]
  },
  {
   "cell_type": "code",
   "execution_count": 30,
   "id": "28a4ec02",
   "metadata": {},
   "outputs": [
    {
     "data": {
      "text/html": [
       "<html>\\(\\displaystyle \\left(\\begin{array}{r}\n",
       "\\frac{1}{2} \\, \\sqrt{2} \\\\\n",
       "0 \\\\\n",
       "0 \\\\\n",
       "\\frac{1}{2} \\, \\sqrt{2}\n",
       "\\end{array}\\right)\\)</html>"
      ],
      "text/latex": [
       "$\\displaystyle \\left(\\begin{array}{r}\n",
       "\\frac{1}{2} \\, \\sqrt{2} \\\\\n",
       "0 \\\\\n",
       "0 \\\\\n",
       "\\frac{1}{2} \\, \\sqrt{2}\n",
       "\\end{array}\\right)$"
      ],
      "text/plain": [
       "[1/2*sqrt(2)]\n",
       "[          0]\n",
       "[          0]\n",
       "[1/2*sqrt(2)]"
      ]
     },
     "metadata": {},
     "output_type": "display_data"
    }
   ],
   "source": [
    "Psi=C_x01*H0*zero_2\n",
    "show(Psi)"
   ]
  },
  {
   "cell_type": "code",
   "execution_count": null,
   "id": "d46b6461",
   "metadata": {},
   "outputs": [],
   "source": []
  },
  {
   "cell_type": "code",
   "execution_count": null,
   "id": "9c4bdcfb",
   "metadata": {},
   "outputs": [],
   "source": []
  },
  {
   "cell_type": "code",
   "execution_count": null,
   "id": "9223ae75",
   "metadata": {},
   "outputs": [],
   "source": []
  },
  {
   "cell_type": "code",
   "execution_count": null,
   "id": "58597857",
   "metadata": {},
   "outputs": [],
   "source": []
  },
  {
   "cell_type": "code",
   "execution_count": null,
   "id": "53f5c14c",
   "metadata": {},
   "outputs": [],
   "source": []
  },
  {
   "cell_type": "markdown",
   "id": "9488ba6d",
   "metadata": {},
   "source": [
    "  ### Question 5"
   ]
  },
  {
   "cell_type": "code",
   "execution_count": 31,
   "id": "441b3918-fd7d-40e7-98fe-175e2b599b16",
   "metadata": {},
   "outputs": [],
   "source": [
    "S=matrix([[1,0,0,0],[0,0,1,0],[0,1,0,0],[0,0,0,1]])"
   ]
  },
  {
   "cell_type": "code",
   "execution_count": 32,
   "id": "e3ed3e68",
   "metadata": {},
   "outputs": [
    {
     "data": {
      "text/html": [
       "<html>\\(\\displaystyle \\left(\\begin{array}{rrrr}\n",
       "1 & 0 & 0 & 0 \\\\\n",
       "0 & 0 & 1 & 0 \\\\\n",
       "0 & 1 & 0 & 0 \\\\\n",
       "0 & 0 & 0 & 1\n",
       "\\end{array}\\right)\\)</html>"
      ],
      "text/latex": [
       "$\\displaystyle \\left(\\begin{array}{rrrr}\n",
       "1 & 0 & 0 & 0 \\\\\n",
       "0 & 0 & 1 & 0 \\\\\n",
       "0 & 1 & 0 & 0 \\\\\n",
       "0 & 0 & 0 & 1\n",
       "\\end{array}\\right)$"
      ],
      "text/plain": [
       "[1 0 0 0]\n",
       "[0 0 1 0]\n",
       "[0 1 0 0]\n",
       "[0 0 0 1]"
      ]
     },
     "metadata": {},
     "output_type": "display_data"
    }
   ],
   "source": [
    "#S matrix\n",
    "show(S)"
   ]
  },
  {
   "cell_type": "code",
   "execution_count": 33,
   "id": "29eb77f9",
   "metadata": {},
   "outputs": [],
   "source": [
    "#A matrix\n",
    "a1,a2,a3,a4=var(\"a1\",\"a2\",\"a3\",\"a4\")\n",
    "A=matrix([[a1,a2],[a3,a4]])"
   ]
  },
  {
   "cell_type": "code",
   "execution_count": 34,
   "id": "0f1d8f98",
   "metadata": {},
   "outputs": [
    {
     "data": {
      "text/html": [
       "<html>\\(\\displaystyle \\left(\\begin{array}{rr}\n",
       "a_{1} & a_{2} \\\\\n",
       "a_{3} & a_{4}\n",
       "\\end{array}\\right)\\)</html>"
      ],
      "text/latex": [
       "$\\displaystyle \\left(\\begin{array}{rr}\n",
       "a_{1} & a_{2} \\\\\n",
       "a_{3} & a_{4}\n",
       "\\end{array}\\right)$"
      ],
      "text/plain": [
       "[a1 a2]\n",
       "[a3 a4]"
      ]
     },
     "metadata": {},
     "output_type": "display_data"
    }
   ],
   "source": [
    "show(A)"
   ]
  },
  {
   "cell_type": "code",
   "execution_count": 35,
   "id": "74764cda",
   "metadata": {},
   "outputs": [
    {
     "data": {
      "text/html": [
       "<html>\\(\\displaystyle \\left(\\begin{array}{rr}\n",
       "1 & 0 \\\\\n",
       "0 & 1\n",
       "\\end{array}\\right)\\)</html>"
      ],
      "text/latex": [
       "$\\displaystyle \\left(\\begin{array}{rr}\n",
       "1 & 0 \\\\\n",
       "0 & 1\n",
       "\\end{array}\\right)$"
      ],
      "text/plain": [
       "[1 0]\n",
       "[0 1]"
      ]
     },
     "metadata": {},
     "output_type": "display_data"
    }
   ],
   "source": [
    "#identity matrix\n",
    "I_d=matrix([[1,0],[0,1]])\n",
    "show(I_d)\n"
   ]
  },
  {
   "cell_type": "code",
   "execution_count": 36,
   "id": "a617275d",
   "metadata": {},
   "outputs": [
    {
     "data": {
      "text/html": [
       "<html>\\(\\displaystyle \\left(\\begin{array}{rr|rr|rr|rr}\n",
       "1 & 0 & 0 & 0 & 0 & 0 & 0 & 0 \\\\\n",
       "0 & 1 & 0 & 0 & 0 & 0 & 0 & 0 \\\\\n",
       "\\hline\n",
       " 0 & 0 & 0 & 0 & 1 & 0 & 0 & 0 \\\\\n",
       "0 & 0 & 0 & 0 & 0 & 1 & 0 & 0 \\\\\n",
       "\\hline\n",
       " 0 & 0 & 1 & 0 & 0 & 0 & 0 & 0 \\\\\n",
       "0 & 0 & 0 & 1 & 0 & 0 & 0 & 0 \\\\\n",
       "\\hline\n",
       " 0 & 0 & 0 & 0 & 0 & 0 & 1 & 0 \\\\\n",
       "0 & 0 & 0 & 0 & 0 & 0 & 0 & 1\n",
       "\\end{array}\\right)\\)</html>"
      ],
      "text/latex": [
       "$\\displaystyle \\left(\\begin{array}{rr|rr|rr|rr}\n",
       "1 & 0 & 0 & 0 & 0 & 0 & 0 & 0 \\\\\n",
       "0 & 1 & 0 & 0 & 0 & 0 & 0 & 0 \\\\\n",
       "\\hline\n",
       " 0 & 0 & 0 & 0 & 1 & 0 & 0 & 0 \\\\\n",
       "0 & 0 & 0 & 0 & 0 & 1 & 0 & 0 \\\\\n",
       "\\hline\n",
       " 0 & 0 & 1 & 0 & 0 & 0 & 0 & 0 \\\\\n",
       "0 & 0 & 0 & 1 & 0 & 0 & 0 & 0 \\\\\n",
       "\\hline\n",
       " 0 & 0 & 0 & 0 & 0 & 0 & 1 & 0 \\\\\n",
       "0 & 0 & 0 & 0 & 0 & 0 & 0 & 1\n",
       "\\end{array}\\right)$"
      ],
      "text/plain": [
       "[1 0|0 0|0 0|0 0]\n",
       "[0 1|0 0|0 0|0 0]\n",
       "[---+---+---+---]\n",
       "[0 0|0 0|1 0|0 0]\n",
       "[0 0|0 0|0 1|0 0]\n",
       "[---+---+---+---]\n",
       "[0 0|1 0|0 0|0 0]\n",
       "[0 0|0 1|0 0|0 0]\n",
       "[---+---+---+---]\n",
       "[0 0|0 0|0 0|1 0]\n",
       "[0 0|0 0|0 0|0 1]"
      ]
     },
     "metadata": {},
     "output_type": "display_data"
    }
   ],
   "source": [
    "#S21=s*I\n",
    "S_21=S.tensor_product(I_d)\n",
    "show(S_21)"
   ]
  },
  {
   "cell_type": "code",
   "execution_count": 37,
   "id": "d25dd7f2",
   "metadata": {},
   "outputs": [
    {
     "data": {
      "text/html": [
       "<html>\\(\\displaystyle \\left(\\begin{array}{rrrr|rrrr}\n",
       "1 & 0 & 0 & 0 & 0 & 0 & 0 & 0 \\\\\n",
       "0 & 0 & 1 & 0 & 0 & 0 & 0 & 0 \\\\\n",
       "0 & 1 & 0 & 0 & 0 & 0 & 0 & 0 \\\\\n",
       "0 & 0 & 0 & 1 & 0 & 0 & 0 & 0 \\\\\n",
       "\\hline\n",
       " 0 & 0 & 0 & 0 & 1 & 0 & 0 & 0 \\\\\n",
       "0 & 0 & 0 & 0 & 0 & 0 & 1 & 0 \\\\\n",
       "0 & 0 & 0 & 0 & 0 & 1 & 0 & 0 \\\\\n",
       "0 & 0 & 0 & 0 & 0 & 0 & 0 & 1\n",
       "\\end{array}\\right)\\)</html>"
      ],
      "text/latex": [
       "$\\displaystyle \\left(\\begin{array}{rrrr|rrrr}\n",
       "1 & 0 & 0 & 0 & 0 & 0 & 0 & 0 \\\\\n",
       "0 & 0 & 1 & 0 & 0 & 0 & 0 & 0 \\\\\n",
       "0 & 1 & 0 & 0 & 0 & 0 & 0 & 0 \\\\\n",
       "0 & 0 & 0 & 1 & 0 & 0 & 0 & 0 \\\\\n",
       "\\hline\n",
       " 0 & 0 & 0 & 0 & 1 & 0 & 0 & 0 \\\\\n",
       "0 & 0 & 0 & 0 & 0 & 0 & 1 & 0 \\\\\n",
       "0 & 0 & 0 & 0 & 0 & 1 & 0 & 0 \\\\\n",
       "0 & 0 & 0 & 0 & 0 & 0 & 0 & 1\n",
       "\\end{array}\\right)$"
      ],
      "text/plain": [
       "[1 0 0 0|0 0 0 0]\n",
       "[0 0 1 0|0 0 0 0]\n",
       "[0 1 0 0|0 0 0 0]\n",
       "[0 0 0 1|0 0 0 0]\n",
       "[-------+-------]\n",
       "[0 0 0 0|1 0 0 0]\n",
       "[0 0 0 0|0 0 1 0]\n",
       "[0 0 0 0|0 1 0 0]\n",
       "[0 0 0 0|0 0 0 1]"
      ]
     },
     "metadata": {},
     "output_type": "display_data"
    }
   ],
   "source": [
    "#S10\n",
    "S_10=I_d.tensor_product(S)\n",
    "show(S_10)"
   ]
  },
  {
   "cell_type": "code",
   "execution_count": 38,
   "id": "aafafb4d",
   "metadata": {},
   "outputs": [
    {
     "data": {
      "text/html": [
       "<html>\\(\\displaystyle \\left(\\begin{array}{rrrr|rrrr}\n",
       "1 & 0 & 0 & 0 & 0 & 0 & 0 & 0 \\\\\n",
       "0 & 0 & 1 & 0 & 0 & 0 & 0 & 0 \\\\\n",
       "0 & 1 & 0 & 0 & 0 & 0 & 0 & 0 \\\\\n",
       "0 & 0 & 0 & 1 & 0 & 0 & 0 & 0 \\\\\n",
       "\\hline\n",
       " 0 & 0 & 0 & 0 & 1 & 0 & 0 & 0 \\\\\n",
       "0 & 0 & 0 & 0 & 0 & 0 & 1 & 0 \\\\\n",
       "0 & 0 & 0 & 0 & 0 & 1 & 0 & 0 \\\\\n",
       "0 & 0 & 0 & 0 & 0 & 0 & 0 & 1\n",
       "\\end{array}\\right)\\)</html>"
      ],
      "text/latex": [
       "$\\displaystyle \\left(\\begin{array}{rrrr|rrrr}\n",
       "1 & 0 & 0 & 0 & 0 & 0 & 0 & 0 \\\\\n",
       "0 & 0 & 1 & 0 & 0 & 0 & 0 & 0 \\\\\n",
       "0 & 1 & 0 & 0 & 0 & 0 & 0 & 0 \\\\\n",
       "0 & 0 & 0 & 1 & 0 & 0 & 0 & 0 \\\\\n",
       "\\hline\n",
       " 0 & 0 & 0 & 0 & 1 & 0 & 0 & 0 \\\\\n",
       "0 & 0 & 0 & 0 & 0 & 0 & 1 & 0 \\\\\n",
       "0 & 0 & 0 & 0 & 0 & 1 & 0 & 0 \\\\\n",
       "0 & 0 & 0 & 0 & 0 & 0 & 0 & 1\n",
       "\\end{array}\\right)$"
      ],
      "text/plain": [
       "[1 0 0 0|0 0 0 0]\n",
       "[0 0 1 0|0 0 0 0]\n",
       "[0 1 0 0|0 0 0 0]\n",
       "[0 0 0 1|0 0 0 0]\n",
       "[-------+-------]\n",
       "[0 0 0 0|1 0 0 0]\n",
       "[0 0 0 0|0 0 1 0]\n",
       "[0 0 0 0|0 1 0 0]\n",
       "[0 0 0 0|0 0 0 1]"
      ]
     },
     "metadata": {},
     "output_type": "display_data"
    }
   ],
   "source": [
    "#S10\n",
    "S_10=I_d.tensor_product(S)\n",
    "show(S_10)"
   ]
  },
  {
   "cell_type": "code",
   "execution_count": 39,
   "id": "752c7995",
   "metadata": {},
   "outputs": [
    {
     "data": {
      "text/html": [
       "<html>\\(\\displaystyle \\left(\\begin{array}{rrrrrrrr}\n",
       "1 & 0 & 0 & 0 & 0 & 0 & 0 & 0 \\\\\n",
       "0 & 0 & 0 & 0 & 1 & 0 & 0 & 0 \\\\\n",
       "0 & 0 & 1 & 0 & 0 & 0 & 0 & 0 \\\\\n",
       "0 & 0 & 0 & 0 & 0 & 0 & 1 & 0 \\\\\n",
       "0 & 1 & 0 & 0 & 0 & 0 & 0 & 0 \\\\\n",
       "0 & 0 & 0 & 0 & 0 & 1 & 0 & 0 \\\\\n",
       "0 & 0 & 0 & 1 & 0 & 0 & 0 & 0 \\\\\n",
       "0 & 0 & 0 & 0 & 0 & 0 & 0 & 1\n",
       "\\end{array}\\right)\\)</html>"
      ],
      "text/latex": [
       "$\\displaystyle \\left(\\begin{array}{rrrrrrrr}\n",
       "1 & 0 & 0 & 0 & 0 & 0 & 0 & 0 \\\\\n",
       "0 & 0 & 0 & 0 & 1 & 0 & 0 & 0 \\\\\n",
       "0 & 0 & 1 & 0 & 0 & 0 & 0 & 0 \\\\\n",
       "0 & 0 & 0 & 0 & 0 & 0 & 1 & 0 \\\\\n",
       "0 & 1 & 0 & 0 & 0 & 0 & 0 & 0 \\\\\n",
       "0 & 0 & 0 & 0 & 0 & 1 & 0 & 0 \\\\\n",
       "0 & 0 & 0 & 1 & 0 & 0 & 0 & 0 \\\\\n",
       "0 & 0 & 0 & 0 & 0 & 0 & 0 & 1\n",
       "\\end{array}\\right)$"
      ],
      "text/plain": [
       "[1 0 0 0 0 0 0 0]\n",
       "[0 0 0 0 1 0 0 0]\n",
       "[0 0 1 0 0 0 0 0]\n",
       "[0 0 0 0 0 0 1 0]\n",
       "[0 1 0 0 0 0 0 0]\n",
       "[0 0 0 0 0 1 0 0]\n",
       "[0 0 0 1 0 0 0 0]\n",
       "[0 0 0 0 0 0 0 1]"
      ]
     },
     "metadata": {},
     "output_type": "display_data"
    }
   ],
   "source": [
    "#S20\n",
    "S_20=S_10*S_21*S_10\n",
    "show(S_20)"
   ]
  },
  {
   "cell_type": "code",
   "execution_count": 40,
   "id": "7f8456e5",
   "metadata": {},
   "outputs": [
    {
     "data": {
      "text/html": [
       "<html>\\(\\displaystyle \\left(\\begin{array}{rr|rr|rr|rr}\n",
       "a_{1} & 0 & 0 & 0 & a_{2} & 0 & 0 & 0 \\\\\n",
       "0 & a_{1} & 0 & 0 & 0 & a_{2} & 0 & 0 \\\\\n",
       "\\hline\n",
       " 0 & 0 & a_{1} & 0 & 0 & 0 & a_{2} & 0 \\\\\n",
       "0 & 0 & 0 & a_{1} & 0 & 0 & 0 & a_{2} \\\\\n",
       "\\hline\n",
       " a_{3} & 0 & 0 & 0 & a_{4} & 0 & 0 & 0 \\\\\n",
       "0 & a_{3} & 0 & 0 & 0 & a_{4} & 0 & 0 \\\\\n",
       "\\hline\n",
       " 0 & 0 & a_{3} & 0 & 0 & 0 & a_{4} & 0 \\\\\n",
       "0 & 0 & 0 & a_{3} & 0 & 0 & 0 & a_{4}\n",
       "\\end{array}\\right)\\)</html>"
      ],
      "text/latex": [
       "$\\displaystyle \\left(\\begin{array}{rr|rr|rr|rr}\n",
       "a_{1} & 0 & 0 & 0 & a_{2} & 0 & 0 & 0 \\\\\n",
       "0 & a_{1} & 0 & 0 & 0 & a_{2} & 0 & 0 \\\\\n",
       "\\hline\n",
       " 0 & 0 & a_{1} & 0 & 0 & 0 & a_{2} & 0 \\\\\n",
       "0 & 0 & 0 & a_{1} & 0 & 0 & 0 & a_{2} \\\\\n",
       "\\hline\n",
       " a_{3} & 0 & 0 & 0 & a_{4} & 0 & 0 & 0 \\\\\n",
       "0 & a_{3} & 0 & 0 & 0 & a_{4} & 0 & 0 \\\\\n",
       "\\hline\n",
       " 0 & 0 & a_{3} & 0 & 0 & 0 & a_{4} & 0 \\\\\n",
       "0 & 0 & 0 & a_{3} & 0 & 0 & 0 & a_{4}\n",
       "\\end{array}\\right)$"
      ],
      "text/plain": [
       "[a1  0| 0  0|a2  0| 0  0]\n",
       "[ 0 a1| 0  0| 0 a2| 0  0]\n",
       "[-----+-----+-----+-----]\n",
       "[ 0  0|a1  0| 0  0|a2  0]\n",
       "[ 0  0| 0 a1| 0  0| 0 a2]\n",
       "[-----+-----+-----+-----]\n",
       "[a3  0| 0  0|a4  0| 0  0]\n",
       "[ 0 a3| 0  0| 0 a4| 0  0]\n",
       "[-----+-----+-----+-----]\n",
       "[ 0  0|a3  0| 0  0|a4  0]\n",
       "[ 0  0| 0 a3| 0  0| 0 a4]"
      ]
     },
     "metadata": {},
     "output_type": "display_data"
    }
   ],
   "source": [
    "A_25=A.tensor_product(I_d).tensor_product(I_d)\n",
    "show(A_25)"
   ]
  },
  {
   "cell_type": "code",
   "execution_count": 41,
   "id": "96a42fe9",
   "metadata": {},
   "outputs": [
    {
     "data": {
      "text/html": [
       "<html>\\(\\displaystyle \\left(\\begin{array}{rr|rr|rr|rr}\n",
       "a_{1} & 0 & a_{2} & 0 & 0 & 0 & 0 & 0 \\\\\n",
       "0 & a_{1} & 0 & a_{2} & 0 & 0 & 0 & 0 \\\\\n",
       "\\hline\n",
       " a_{3} & 0 & a_{4} & 0 & 0 & 0 & 0 & 0 \\\\\n",
       "0 & a_{3} & 0 & a_{4} & 0 & 0 & 0 & 0 \\\\\n",
       "\\hline\n",
       " 0 & 0 & 0 & 0 & a_{1} & 0 & a_{2} & 0 \\\\\n",
       "0 & 0 & 0 & 0 & 0 & a_{1} & 0 & a_{2} \\\\\n",
       "\\hline\n",
       " 0 & 0 & 0 & 0 & a_{3} & 0 & a_{4} & 0 \\\\\n",
       "0 & 0 & 0 & 0 & 0 & a_{3} & 0 & a_{4}\n",
       "\\end{array}\\right)\\)</html>"
      ],
      "text/latex": [
       "$\\displaystyle \\left(\\begin{array}{rr|rr|rr|rr}\n",
       "a_{1} & 0 & a_{2} & 0 & 0 & 0 & 0 & 0 \\\\\n",
       "0 & a_{1} & 0 & a_{2} & 0 & 0 & 0 & 0 \\\\\n",
       "\\hline\n",
       " a_{3} & 0 & a_{4} & 0 & 0 & 0 & 0 & 0 \\\\\n",
       "0 & a_{3} & 0 & a_{4} & 0 & 0 & 0 & 0 \\\\\n",
       "\\hline\n",
       " 0 & 0 & 0 & 0 & a_{1} & 0 & a_{2} & 0 \\\\\n",
       "0 & 0 & 0 & 0 & 0 & a_{1} & 0 & a_{2} \\\\\n",
       "\\hline\n",
       " 0 & 0 & 0 & 0 & a_{3} & 0 & a_{4} & 0 \\\\\n",
       "0 & 0 & 0 & 0 & 0 & a_{3} & 0 & a_{4}\n",
       "\\end{array}\\right)$"
      ],
      "text/plain": [
       "[a1  0|a2  0| 0  0| 0  0]\n",
       "[ 0 a1| 0 a2| 0  0| 0  0]\n",
       "[-----+-----+-----+-----]\n",
       "[a3  0|a4  0| 0  0| 0  0]\n",
       "[ 0 a3| 0 a4| 0  0| 0  0]\n",
       "[-----+-----+-----+-----]\n",
       "[ 0  0| 0  0|a1  0|a2  0]\n",
       "[ 0  0| 0  0| 0 a1| 0 a2]\n",
       "[-----+-----+-----+-----]\n",
       "[ 0  0| 0  0|a3  0|a4  0]\n",
       "[ 0  0| 0  0| 0 a3| 0 a4]"
      ]
     },
     "metadata": {},
     "output_type": "display_data"
    }
   ],
   "source": [
    "A_15=I_d.tensor_product(A).tensor_product(I_d)\n",
    "show(A_15)"
   ]
  },
  {
   "cell_type": "code",
   "execution_count": 42,
   "id": "291f5cba",
   "metadata": {},
   "outputs": [
    {
     "data": {
      "text/html": [
       "<html>\\(\\displaystyle \\left(\\begin{array}{rr|rr|rr|rr}\n",
       "a_{1} & a_{2} & 0 & 0 & 0 & 0 & 0 & 0 \\\\\n",
       "a_{3} & a_{4} & 0 & 0 & 0 & 0 & 0 & 0 \\\\\n",
       "\\hline\n",
       " 0 & 0 & a_{1} & a_{2} & 0 & 0 & 0 & 0 \\\\\n",
       "0 & 0 & a_{3} & a_{4} & 0 & 0 & 0 & 0 \\\\\n",
       "\\hline\n",
       " 0 & 0 & 0 & 0 & a_{1} & a_{2} & 0 & 0 \\\\\n",
       "0 & 0 & 0 & 0 & a_{3} & a_{4} & 0 & 0 \\\\\n",
       "\\hline\n",
       " 0 & 0 & 0 & 0 & 0 & 0 & a_{1} & a_{2} \\\\\n",
       "0 & 0 & 0 & 0 & 0 & 0 & a_{3} & a_{4}\n",
       "\\end{array}\\right)\\)</html>"
      ],
      "text/latex": [
       "$\\displaystyle \\left(\\begin{array}{rr|rr|rr|rr}\n",
       "a_{1} & a_{2} & 0 & 0 & 0 & 0 & 0 & 0 \\\\\n",
       "a_{3} & a_{4} & 0 & 0 & 0 & 0 & 0 & 0 \\\\\n",
       "\\hline\n",
       " 0 & 0 & a_{1} & a_{2} & 0 & 0 & 0 & 0 \\\\\n",
       "0 & 0 & a_{3} & a_{4} & 0 & 0 & 0 & 0 \\\\\n",
       "\\hline\n",
       " 0 & 0 & 0 & 0 & a_{1} & a_{2} & 0 & 0 \\\\\n",
       "0 & 0 & 0 & 0 & a_{3} & a_{4} & 0 & 0 \\\\\n",
       "\\hline\n",
       " 0 & 0 & 0 & 0 & 0 & 0 & a_{1} & a_{2} \\\\\n",
       "0 & 0 & 0 & 0 & 0 & 0 & a_{3} & a_{4}\n",
       "\\end{array}\\right)$"
      ],
      "text/plain": [
       "[a1 a2| 0  0| 0  0| 0  0]\n",
       "[a3 a4| 0  0| 0  0| 0  0]\n",
       "[-----+-----+-----+-----]\n",
       "[ 0  0|a1 a2| 0  0| 0  0]\n",
       "[ 0  0|a3 a4| 0  0| 0  0]\n",
       "[-----+-----+-----+-----]\n",
       "[ 0  0| 0  0|a1 a2| 0  0]\n",
       "[ 0  0| 0  0|a3 a4| 0  0]\n",
       "[-----+-----+-----+-----]\n",
       "[ 0  0| 0  0| 0  0|a1 a2]\n",
       "[ 0  0| 0  0| 0  0|a3 a4]"
      ]
     },
     "metadata": {},
     "output_type": "display_data"
    }
   ],
   "source": [
    "A_05=I_d.tensor_product(I_d).tensor_product(A)\n",
    "show(A_05)"
   ]
  },
  {
   "cell_type": "code",
   "execution_count": 43,
   "id": "c458bf81",
   "metadata": {},
   "outputs": [
    {
     "data": {
      "text/html": [
       "<html>\\(\\displaystyle \\left(\\begin{array}{rr|rr|rr|rr}\n",
       "a_{1} & 0 & 0 & 0 & a_{2} & 0 & 0 & 0 \\\\\n",
       "0 & a_{1} & 0 & 0 & 0 & a_{2} & 0 & 0 \\\\\n",
       "\\hline\n",
       " 0 & 0 & a_{1} & 0 & 0 & 0 & a_{2} & 0 \\\\\n",
       "0 & 0 & 0 & a_{1} & 0 & 0 & 0 & a_{2} \\\\\n",
       "\\hline\n",
       " a_{3} & 0 & 0 & 0 & a_{4} & 0 & 0 & 0 \\\\\n",
       "0 & a_{3} & 0 & 0 & 0 & a_{4} & 0 & 0 \\\\\n",
       "\\hline\n",
       " 0 & 0 & a_{3} & 0 & 0 & 0 & a_{4} & 0 \\\\\n",
       "0 & 0 & 0 & a_{3} & 0 & 0 & 0 & a_{4}\n",
       "\\end{array}\\right)\\)</html>"
      ],
      "text/latex": [
       "$\\displaystyle \\left(\\begin{array}{rr|rr|rr|rr}\n",
       "a_{1} & 0 & 0 & 0 & a_{2} & 0 & 0 & 0 \\\\\n",
       "0 & a_{1} & 0 & 0 & 0 & a_{2} & 0 & 0 \\\\\n",
       "\\hline\n",
       " 0 & 0 & a_{1} & 0 & 0 & 0 & a_{2} & 0 \\\\\n",
       "0 & 0 & 0 & a_{1} & 0 & 0 & 0 & a_{2} \\\\\n",
       "\\hline\n",
       " a_{3} & 0 & 0 & 0 & a_{4} & 0 & 0 & 0 \\\\\n",
       "0 & a_{3} & 0 & 0 & 0 & a_{4} & 0 & 0 \\\\\n",
       "\\hline\n",
       " 0 & 0 & a_{3} & 0 & 0 & 0 & a_{4} & 0 \\\\\n",
       "0 & 0 & 0 & a_{3} & 0 & 0 & 0 & a_{4}\n",
       "\\end{array}\\right)$"
      ],
      "text/plain": [
       "[a1  0| 0  0|a2  0| 0  0]\n",
       "[ 0 a1| 0  0| 0 a2| 0  0]\n",
       "[-----+-----+-----+-----]\n",
       "[ 0  0|a1  0| 0  0|a2  0]\n",
       "[ 0  0| 0 a1| 0  0| 0 a2]\n",
       "[-----+-----+-----+-----]\n",
       "[a3  0| 0  0|a4  0| 0  0]\n",
       "[ 0 a3| 0  0| 0 a4| 0  0]\n",
       "[-----+-----+-----+-----]\n",
       "[ 0  0|a3  0| 0  0|a4  0]\n",
       "[ 0  0| 0 a3| 0  0| 0 a4]"
      ]
     },
     "metadata": {},
     "output_type": "display_data"
    }
   ],
   "source": [
    "A_225=S_21*A_15*S_21\n",
    "show(A_225)"
   ]
  },
  {
   "cell_type": "code",
   "execution_count": 44,
   "id": "f92cffe1",
   "metadata": {},
   "outputs": [
    {
     "data": {
      "text/html": [
       "<html>\\(\\displaystyle \\left(\\begin{array}{rrrrrrrr}\n",
       "a_{1} & 0 & 0 & 0 & a_{2} & 0 & 0 & 0 \\\\\n",
       "0 & a_{1} & 0 & 0 & 0 & a_{2} & 0 & 0 \\\\\n",
       "0 & 0 & a_{1} & 0 & 0 & 0 & a_{2} & 0 \\\\\n",
       "0 & 0 & 0 & a_{1} & 0 & 0 & 0 & a_{2} \\\\\n",
       "a_{3} & 0 & 0 & 0 & a_{4} & 0 & 0 & 0 \\\\\n",
       "0 & a_{3} & 0 & 0 & 0 & a_{4} & 0 & 0 \\\\\n",
       "0 & 0 & a_{3} & 0 & 0 & 0 & a_{4} & 0 \\\\\n",
       "0 & 0 & 0 & a_{3} & 0 & 0 & 0 & a_{4}\n",
       "\\end{array}\\right)\\)</html>"
      ],
      "text/latex": [
       "$\\displaystyle \\left(\\begin{array}{rrrrrrrr}\n",
       "a_{1} & 0 & 0 & 0 & a_{2} & 0 & 0 & 0 \\\\\n",
       "0 & a_{1} & 0 & 0 & 0 & a_{2} & 0 & 0 \\\\\n",
       "0 & 0 & a_{1} & 0 & 0 & 0 & a_{2} & 0 \\\\\n",
       "0 & 0 & 0 & a_{1} & 0 & 0 & 0 & a_{2} \\\\\n",
       "a_{3} & 0 & 0 & 0 & a_{4} & 0 & 0 & 0 \\\\\n",
       "0 & a_{3} & 0 & 0 & 0 & a_{4} & 0 & 0 \\\\\n",
       "0 & 0 & a_{3} & 0 & 0 & 0 & a_{4} & 0 \\\\\n",
       "0 & 0 & 0 & a_{3} & 0 & 0 & 0 & a_{4}\n",
       "\\end{array}\\right)$"
      ],
      "text/plain": [
       "[a1  0  0  0 a2  0  0  0]\n",
       "[ 0 a1  0  0  0 a2  0  0]\n",
       "[ 0  0 a1  0  0  0 a2  0]\n",
       "[ 0  0  0 a1  0  0  0 a2]\n",
       "[a3  0  0  0 a4  0  0  0]\n",
       "[ 0 a3  0  0  0 a4  0  0]\n",
       "[ 0  0 a3  0  0  0 a4  0]\n",
       "[ 0  0  0 a3  0  0  0 a4]"
      ]
     },
     "metadata": {},
     "output_type": "display_data"
    }
   ],
   "source": [
    "A_2225=S_20*A_05*S_20\n",
    "show(A_2225)"
   ]
  },
  {
   "cell_type": "markdown",
   "id": "f7b78c49",
   "metadata": {},
   "source": [
    "Therefore $A_2=S_{21}A_1S_{21}=S_{20}A_0S_{20}$"
   ]
  },
  {
   "cell_type": "code",
   "execution_count": 45,
   "id": "a318864a",
   "metadata": {},
   "outputs": [
    {
     "data": {
      "text/html": [
       "<html>\\(\\displaystyle \\left(\\begin{array}{rrrrrrrr}\n",
       "a_{1} & 0 & a_{2} & 0 & 0 & 0 & 0 & 0 \\\\\n",
       "0 & a_{1} & 0 & a_{2} & 0 & 0 & 0 & 0 \\\\\n",
       "a_{3} & 0 & a_{4} & 0 & 0 & 0 & 0 & 0 \\\\\n",
       "0 & a_{3} & 0 & a_{4} & 0 & 0 & 0 & 0 \\\\\n",
       "0 & 0 & 0 & 0 & a_{1} & 0 & a_{2} & 0 \\\\\n",
       "0 & 0 & 0 & 0 & 0 & a_{1} & 0 & a_{2} \\\\\n",
       "0 & 0 & 0 & 0 & a_{3} & 0 & a_{4} & 0 \\\\\n",
       "0 & 0 & 0 & 0 & 0 & a_{3} & 0 & a_{4}\n",
       "\\end{array}\\right)\\)</html>"
      ],
      "text/latex": [
       "$\\displaystyle \\left(\\begin{array}{rrrrrrrr}\n",
       "a_{1} & 0 & a_{2} & 0 & 0 & 0 & 0 & 0 \\\\\n",
       "0 & a_{1} & 0 & a_{2} & 0 & 0 & 0 & 0 \\\\\n",
       "a_{3} & 0 & a_{4} & 0 & 0 & 0 & 0 & 0 \\\\\n",
       "0 & a_{3} & 0 & a_{4} & 0 & 0 & 0 & 0 \\\\\n",
       "0 & 0 & 0 & 0 & a_{1} & 0 & a_{2} & 0 \\\\\n",
       "0 & 0 & 0 & 0 & 0 & a_{1} & 0 & a_{2} \\\\\n",
       "0 & 0 & 0 & 0 & a_{3} & 0 & a_{4} & 0 \\\\\n",
       "0 & 0 & 0 & 0 & 0 & a_{3} & 0 & a_{4}\n",
       "\\end{array}\\right)$"
      ],
      "text/plain": [
       "[a1  0 a2  0  0  0  0  0]\n",
       "[ 0 a1  0 a2  0  0  0  0]\n",
       "[a3  0 a4  0  0  0  0  0]\n",
       "[ 0 a3  0 a4  0  0  0  0]\n",
       "[ 0  0  0  0 a1  0 a2  0]\n",
       "[ 0  0  0  0  0 a1  0 a2]\n",
       "[ 0  0  0  0 a3  0 a4  0]\n",
       "[ 0  0  0  0  0 a3  0 a4]"
      ]
     },
     "metadata": {},
     "output_type": "display_data"
    }
   ],
   "source": [
    "A_115=S_10*A_05*S_10\n",
    "show(A_115)"
   ]
  },
  {
   "cell_type": "code",
   "execution_count": 46,
   "id": "b43adf31",
   "metadata": {},
   "outputs": [
    {
     "data": {
      "text/html": [
       "<html>\\(\\displaystyle \\left(\\begin{array}{rr|rr|rr|rr}\n",
       "a_{1} & 0 & a_{2} & 0 & 0 & 0 & 0 & 0 \\\\\n",
       "0 & a_{1} & 0 & a_{2} & 0 & 0 & 0 & 0 \\\\\n",
       "\\hline\n",
       " a_{3} & 0 & a_{4} & 0 & 0 & 0 & 0 & 0 \\\\\n",
       "0 & a_{3} & 0 & a_{4} & 0 & 0 & 0 & 0 \\\\\n",
       "\\hline\n",
       " 0 & 0 & 0 & 0 & a_{1} & 0 & a_{2} & 0 \\\\\n",
       "0 & 0 & 0 & 0 & 0 & a_{1} & 0 & a_{2} \\\\\n",
       "\\hline\n",
       " 0 & 0 & 0 & 0 & a_{3} & 0 & a_{4} & 0 \\\\\n",
       "0 & 0 & 0 & 0 & 0 & a_{3} & 0 & a_{4}\n",
       "\\end{array}\\right)\\)</html>"
      ],
      "text/latex": [
       "$\\displaystyle \\left(\\begin{array}{rr|rr|rr|rr}\n",
       "a_{1} & 0 & a_{2} & 0 & 0 & 0 & 0 & 0 \\\\\n",
       "0 & a_{1} & 0 & a_{2} & 0 & 0 & 0 & 0 \\\\\n",
       "\\hline\n",
       " a_{3} & 0 & a_{4} & 0 & 0 & 0 & 0 & 0 \\\\\n",
       "0 & a_{3} & 0 & a_{4} & 0 & 0 & 0 & 0 \\\\\n",
       "\\hline\n",
       " 0 & 0 & 0 & 0 & a_{1} & 0 & a_{2} & 0 \\\\\n",
       "0 & 0 & 0 & 0 & 0 & a_{1} & 0 & a_{2} \\\\\n",
       "\\hline\n",
       " 0 & 0 & 0 & 0 & a_{3} & 0 & a_{4} & 0 \\\\\n",
       "0 & 0 & 0 & 0 & 0 & a_{3} & 0 & a_{4}\n",
       "\\end{array}\\right)$"
      ],
      "text/plain": [
       "[a1  0|a2  0| 0  0| 0  0]\n",
       "[ 0 a1| 0 a2| 0  0| 0  0]\n",
       "[-----+-----+-----+-----]\n",
       "[a3  0|a4  0| 0  0| 0  0]\n",
       "[ 0 a3| 0 a4| 0  0| 0  0]\n",
       "[-----+-----+-----+-----]\n",
       "[ 0  0| 0  0|a1  0|a2  0]\n",
       "[ 0  0| 0  0| 0 a1| 0 a2]\n",
       "[-----+-----+-----+-----]\n",
       "[ 0  0| 0  0|a3  0|a4  0]\n",
       "[ 0  0| 0  0| 0 a3| 0 a4]"
      ]
     },
     "metadata": {},
     "output_type": "display_data"
    }
   ],
   "source": [
    "A_1115=S_21*A_25*S_21\n",
    "show(A_1115)"
   ]
  },
  {
   "cell_type": "markdown",
   "id": "5aee9c58",
   "metadata": {},
   "source": [
    "Therefore $A_1=S_{10}A_0S_{10}=S_{21}A_2S_{21}$"
   ]
  },
  {
   "cell_type": "code",
   "execution_count": 47,
   "id": "6c5ddbf9",
   "metadata": {},
   "outputs": [
    {
     "data": {
      "text/html": [
       "<html>\\(\\displaystyle \\left(\\begin{array}{rrrrrrrr}\n",
       "a_{1} & a_{2} & 0 & 0 & 0 & 0 & 0 & 0 \\\\\n",
       "a_{3} & a_{4} & 0 & 0 & 0 & 0 & 0 & 0 \\\\\n",
       "0 & 0 & a_{1} & a_{2} & 0 & 0 & 0 & 0 \\\\\n",
       "0 & 0 & a_{3} & a_{4} & 0 & 0 & 0 & 0 \\\\\n",
       "0 & 0 & 0 & 0 & a_{1} & a_{2} & 0 & 0 \\\\\n",
       "0 & 0 & 0 & 0 & a_{3} & a_{4} & 0 & 0 \\\\\n",
       "0 & 0 & 0 & 0 & 0 & 0 & a_{1} & a_{2} \\\\\n",
       "0 & 0 & 0 & 0 & 0 & 0 & a_{3} & a_{4}\n",
       "\\end{array}\\right)\\)</html>"
      ],
      "text/latex": [
       "$\\displaystyle \\left(\\begin{array}{rrrrrrrr}\n",
       "a_{1} & a_{2} & 0 & 0 & 0 & 0 & 0 & 0 \\\\\n",
       "a_{3} & a_{4} & 0 & 0 & 0 & 0 & 0 & 0 \\\\\n",
       "0 & 0 & a_{1} & a_{2} & 0 & 0 & 0 & 0 \\\\\n",
       "0 & 0 & a_{3} & a_{4} & 0 & 0 & 0 & 0 \\\\\n",
       "0 & 0 & 0 & 0 & a_{1} & a_{2} & 0 & 0 \\\\\n",
       "0 & 0 & 0 & 0 & a_{3} & a_{4} & 0 & 0 \\\\\n",
       "0 & 0 & 0 & 0 & 0 & 0 & a_{1} & a_{2} \\\\\n",
       "0 & 0 & 0 & 0 & 0 & 0 & a_{3} & a_{4}\n",
       "\\end{array}\\right)$"
      ],
      "text/plain": [
       "[a1 a2  0  0  0  0  0  0]\n",
       "[a3 a4  0  0  0  0  0  0]\n",
       "[ 0  0 a1 a2  0  0  0  0]\n",
       "[ 0  0 a3 a4  0  0  0  0]\n",
       "[ 0  0  0  0 a1 a2  0  0]\n",
       "[ 0  0  0  0 a3 a4  0  0]\n",
       "[ 0  0  0  0  0  0 a1 a2]\n",
       "[ 0  0  0  0  0  0 a3 a4]"
      ]
     },
     "metadata": {},
     "output_type": "display_data"
    }
   ],
   "source": [
    "A_005=S_10*A_15*S_10\n",
    "show(A_005)"
   ]
  },
  {
   "cell_type": "code",
   "execution_count": 48,
   "id": "5dc3ae3f",
   "metadata": {},
   "outputs": [
    {
     "data": {
      "text/html": [
       "<html>\\(\\displaystyle \\left(\\begin{array}{rrrrrrrr}\n",
       "a_{1} & a_{2} & 0 & 0 & 0 & 0 & 0 & 0 \\\\\n",
       "a_{3} & a_{4} & 0 & 0 & 0 & 0 & 0 & 0 \\\\\n",
       "0 & 0 & a_{1} & a_{2} & 0 & 0 & 0 & 0 \\\\\n",
       "0 & 0 & a_{3} & a_{4} & 0 & 0 & 0 & 0 \\\\\n",
       "0 & 0 & 0 & 0 & a_{1} & a_{2} & 0 & 0 \\\\\n",
       "0 & 0 & 0 & 0 & a_{3} & a_{4} & 0 & 0 \\\\\n",
       "0 & 0 & 0 & 0 & 0 & 0 & a_{1} & a_{2} \\\\\n",
       "0 & 0 & 0 & 0 & 0 & 0 & a_{3} & a_{4}\n",
       "\\end{array}\\right)\\)</html>"
      ],
      "text/latex": [
       "$\\displaystyle \\left(\\begin{array}{rrrrrrrr}\n",
       "a_{1} & a_{2} & 0 & 0 & 0 & 0 & 0 & 0 \\\\\n",
       "a_{3} & a_{4} & 0 & 0 & 0 & 0 & 0 & 0 \\\\\n",
       "0 & 0 & a_{1} & a_{2} & 0 & 0 & 0 & 0 \\\\\n",
       "0 & 0 & a_{3} & a_{4} & 0 & 0 & 0 & 0 \\\\\n",
       "0 & 0 & 0 & 0 & a_{1} & a_{2} & 0 & 0 \\\\\n",
       "0 & 0 & 0 & 0 & a_{3} & a_{4} & 0 & 0 \\\\\n",
       "0 & 0 & 0 & 0 & 0 & 0 & a_{1} & a_{2} \\\\\n",
       "0 & 0 & 0 & 0 & 0 & 0 & a_{3} & a_{4}\n",
       "\\end{array}\\right)$"
      ],
      "text/plain": [
       "[a1 a2  0  0  0  0  0  0]\n",
       "[a3 a4  0  0  0  0  0  0]\n",
       "[ 0  0 a1 a2  0  0  0  0]\n",
       "[ 0  0 a3 a4  0  0  0  0]\n",
       "[ 0  0  0  0 a1 a2  0  0]\n",
       "[ 0  0  0  0 a3 a4  0  0]\n",
       "[ 0  0  0  0  0  0 a1 a2]\n",
       "[ 0  0  0  0  0  0 a3 a4]"
      ]
     },
     "metadata": {},
     "output_type": "display_data"
    }
   ],
   "source": [
    "A_0005=S_20*A_25*S_20\n",
    "show(A_0005)"
   ]
  },
  {
   "cell_type": "markdown",
   "id": "eeb922f0",
   "metadata": {},
   "source": [
    "Therefore \n",
    "$A_0=S_{10}A_1S_{10}=S_{20}A_2S_{20}$"
   ]
  },
  {
   "cell_type": "code",
   "execution_count": 49,
   "id": "c76079d0",
   "metadata": {},
   "outputs": [
    {
     "data": {
      "text/html": [
       "<html>\\(\\displaystyle \\left(\\begin{array}{rrrr|rrrr}\n",
       "1 & 0 & 0 & 0 & 0 & 0 & 0 & 0 \\\\\n",
       "0 & 0 & 1 & 0 & 0 & 0 & 0 & 0 \\\\\n",
       "0 & 1 & 0 & 0 & 0 & 0 & 0 & 0 \\\\\n",
       "0 & 0 & 0 & 1 & 0 & 0 & 0 & 0 \\\\\n",
       "\\hline\n",
       " 0 & 0 & 0 & 0 & 1 & 0 & 0 & 0 \\\\\n",
       "0 & 0 & 0 & 0 & 0 & 0 & 1 & 0 \\\\\n",
       "0 & 0 & 0 & 0 & 0 & 1 & 0 & 0 \\\\\n",
       "0 & 0 & 0 & 0 & 0 & 0 & 0 & 1\n",
       "\\end{array}\\right)\\)</html>"
      ],
      "text/latex": [
       "$\\displaystyle \\left(\\begin{array}{rrrr|rrrr}\n",
       "1 & 0 & 0 & 0 & 0 & 0 & 0 & 0 \\\\\n",
       "0 & 0 & 1 & 0 & 0 & 0 & 0 & 0 \\\\\n",
       "0 & 1 & 0 & 0 & 0 & 0 & 0 & 0 \\\\\n",
       "0 & 0 & 0 & 1 & 0 & 0 & 0 & 0 \\\\\n",
       "\\hline\n",
       " 0 & 0 & 0 & 0 & 1 & 0 & 0 & 0 \\\\\n",
       "0 & 0 & 0 & 0 & 0 & 0 & 1 & 0 \\\\\n",
       "0 & 0 & 0 & 0 & 0 & 1 & 0 & 0 \\\\\n",
       "0 & 0 & 0 & 0 & 0 & 0 & 0 & 1\n",
       "\\end{array}\\right)$"
      ],
      "text/plain": [
       "[1 0 0 0|0 0 0 0]\n",
       "[0 0 1 0|0 0 0 0]\n",
       "[0 1 0 0|0 0 0 0]\n",
       "[0 0 0 1|0 0 0 0]\n",
       "[-------+-------]\n",
       "[0 0 0 0|1 0 0 0]\n",
       "[0 0 0 0|0 0 1 0]\n",
       "[0 0 0 0|0 1 0 0]\n",
       "[0 0 0 0|0 0 0 1]"
      ]
     },
     "metadata": {},
     "output_type": "display_data"
    }
   ],
   "source": [
    " S_1005=I_d.tensor_product(S)\n",
    "show(S_1005)"
   ]
  },
  {
   "cell_type": "code",
   "execution_count": null,
   "id": "23d9e32f",
   "metadata": {},
   "outputs": [],
   "source": []
  },
  {
   "cell_type": "markdown",
   "id": "8795caea-1332-443d-aa3e-45b42a50d116",
   "metadata": {},
   "source": [
    "(b)"
   ]
  },
  {
   "cell_type": "code",
   "execution_count": 51,
   "id": "c3fe7b6a-8432-4734-9bce-1301eca2e262",
   "metadata": {},
   "outputs": [
    {
     "data": {
      "text/html": [
       "<html>\\(\\displaystyle \\left(\\begin{array}{rrrr|rrrr}\n",
       "1 & 0 & 0 & 0 & 0 & 0 & 0 & 0 \\\\\n",
       "0 & 0 & 0 & 1 & 0 & 0 & 0 & 0 \\\\\n",
       "0 & 0 & 1 & 0 & 0 & 0 & 0 & 0 \\\\\n",
       "0 & 1 & 0 & 0 & 0 & 0 & 0 & 0 \\\\\n",
       "\\hline\n",
       " 0 & 0 & 0 & 0 & 1 & 0 & 0 & 0 \\\\\n",
       "0 & 0 & 0 & 0 & 0 & 0 & 0 & 1 \\\\\n",
       "0 & 0 & 0 & 0 & 0 & 0 & 1 & 0 \\\\\n",
       "0 & 0 & 0 & 0 & 0 & 1 & 0 & 0\n",
       "\\end{array}\\right)\\)</html>"
      ],
      "text/latex": [
       "$\\displaystyle \\left(\\begin{array}{rrrr|rrrr}\n",
       "1 & 0 & 0 & 0 & 0 & 0 & 0 & 0 \\\\\n",
       "0 & 0 & 0 & 1 & 0 & 0 & 0 & 0 \\\\\n",
       "0 & 0 & 1 & 0 & 0 & 0 & 0 & 0 \\\\\n",
       "0 & 1 & 0 & 0 & 0 & 0 & 0 & 0 \\\\\n",
       "\\hline\n",
       " 0 & 0 & 0 & 0 & 1 & 0 & 0 & 0 \\\\\n",
       "0 & 0 & 0 & 0 & 0 & 0 & 0 & 1 \\\\\n",
       "0 & 0 & 0 & 0 & 0 & 0 & 1 & 0 \\\\\n",
       "0 & 0 & 0 & 0 & 0 & 1 & 0 & 0\n",
       "\\end{array}\\right)$"
      ],
      "text/plain": [
       "[1 0 0 0|0 0 0 0]\n",
       "[0 0 0 1|0 0 0 0]\n",
       "[0 0 1 0|0 0 0 0]\n",
       "[0 1 0 0|0 0 0 0]\n",
       "[-------+-------]\n",
       "[0 0 0 0|1 0 0 0]\n",
       "[0 0 0 0|0 0 0 1]\n",
       "[0 0 0 0|0 0 1 0]\n",
       "[0 0 0 0|0 1 0 0]"
      ]
     },
     "metadata": {},
     "output_type": "display_data"
    }
   ],
   "source": [
    "#C01\n",
    "C_x0=matrix([[1,0,0,0],[0,0,0,1],[0,0,1,0],[0,1,0,0]])\n",
    "M=I_d.tensor_product(C_x0)\n",
    "show(M)"
   ]
  },
  {
   "cell_type": "code",
   "execution_count": null,
   "id": "4e7ef5c7-96d9-4e90-9cc1-4252f888b375",
   "metadata": {},
   "outputs": [],
   "source": []
  },
  {
   "cell_type": "code",
   "execution_count": 52,
   "id": "b8ab06d2-e391-48f0-9038-9174cbf75a1b",
   "metadata": {},
   "outputs": [
    {
     "data": {
      "text/html": [
       "<html>\\(\\displaystyle \\left(\\begin{array}{rr|rr|rr|rr}\n",
       "1 & 0 & 0 & 0 & 0 & 0 & 0 & 0 \\\\\n",
       "0 & 1 & 0 & 0 & 0 & 0 & 0 & 0 \\\\\n",
       "\\hline\n",
       " 0 & 0 & 0 & 0 & 0 & 0 & 1 & 0 \\\\\n",
       "0 & 0 & 0 & 0 & 0 & 0 & 0 & 1 \\\\\n",
       "\\hline\n",
       " 0 & 0 & 0 & 0 & 1 & 0 & 0 & 0 \\\\\n",
       "0 & 0 & 0 & 0 & 0 & 1 & 0 & 0 \\\\\n",
       "\\hline\n",
       " 0 & 0 & 1 & 0 & 0 & 0 & 0 & 0 \\\\\n",
       "0 & 0 & 0 & 1 & 0 & 0 & 0 & 0\n",
       "\\end{array}\\right)\\)</html>"
      ],
      "text/latex": [
       "$\\displaystyle \\left(\\begin{array}{rr|rr|rr|rr}\n",
       "1 & 0 & 0 & 0 & 0 & 0 & 0 & 0 \\\\\n",
       "0 & 1 & 0 & 0 & 0 & 0 & 0 & 0 \\\\\n",
       "\\hline\n",
       " 0 & 0 & 0 & 0 & 0 & 0 & 1 & 0 \\\\\n",
       "0 & 0 & 0 & 0 & 0 & 0 & 0 & 1 \\\\\n",
       "\\hline\n",
       " 0 & 0 & 0 & 0 & 1 & 0 & 0 & 0 \\\\\n",
       "0 & 0 & 0 & 0 & 0 & 1 & 0 & 0 \\\\\n",
       "\\hline\n",
       " 0 & 0 & 1 & 0 & 0 & 0 & 0 & 0 \\\\\n",
       "0 & 0 & 0 & 1 & 0 & 0 & 0 & 0\n",
       "\\end{array}\\right)$"
      ],
      "text/plain": [
       "[1 0|0 0|0 0|0 0]\n",
       "[0 1|0 0|0 0|0 0]\n",
       "[---+---+---+---]\n",
       "[0 0|0 0|0 0|1 0]\n",
       "[0 0|0 0|0 0|0 1]\n",
       "[---+---+---+---]\n",
       "[0 0|0 0|1 0|0 0]\n",
       "[0 0|0 0|0 1|0 0]\n",
       "[---+---+---+---]\n",
       "[0 0|1 0|0 0|0 0]\n",
       "[0 0|0 1|0 0|0 0]"
      ]
     },
     "metadata": {},
     "output_type": "display_data"
    }
   ],
   "source": [
    "#C12\n",
    "C_x0=matrix([[1,0,0,0],[0,0,0,1],[0,0,1,0],[0,1,0,0]])\n",
    "N=C_x0.tensor_product(I_d)\n",
    "show(N)"
   ]
  },
  {
   "cell_type": "code",
   "execution_count": null,
   "id": "68172efd-9ce1-4bae-9e86-41130a663515",
   "metadata": {},
   "outputs": [],
   "source": []
  },
  {
   "cell_type": "code",
   "execution_count": null,
   "id": "4278f644-72a4-4a69-a7e1-9df2688442ef",
   "metadata": {},
   "outputs": [],
   "source": []
  },
  {
   "cell_type": "code",
   "execution_count": 120,
   "id": "88150666-34a2-4b7f-bc6a-ab913cabba46",
   "metadata": {},
   "outputs": [
    {
     "data": {
      "text/html": [
       "<html>\\(\\displaystyle \\left(\\begin{array}{rr|rr|rr|rr}\n",
       "1 & 0 & 0 & 0 & 0 & 0 & 0 & 0 \\\\\n",
       "0 & 1 & 0 & 0 & 0 & 0 & 0 & 0 \\\\\n",
       "\\hline\n",
       " 0 & 0 & 0 & 0 & 1 & 0 & 0 & 0 \\\\\n",
       "0 & 0 & 0 & 0 & 0 & 1 & 0 & 0 \\\\\n",
       "\\hline\n",
       " 0 & 0 & 1 & 0 & 0 & 0 & 0 & 0 \\\\\n",
       "0 & 0 & 0 & 1 & 0 & 0 & 0 & 0 \\\\\n",
       "\\hline\n",
       " 0 & 0 & 0 & 0 & 0 & 0 & 1 & 0 \\\\\n",
       "0 & 0 & 0 & 0 & 0 & 0 & 0 & 1\n",
       "\\end{array}\\right)\\)</html>"
      ],
      "text/latex": [
       "$\\displaystyle \\left(\\begin{array}{rr|rr|rr|rr}\n",
       "1 & 0 & 0 & 0 & 0 & 0 & 0 & 0 \\\\\n",
       "0 & 1 & 0 & 0 & 0 & 0 & 0 & 0 \\\\\n",
       "\\hline\n",
       " 0 & 0 & 0 & 0 & 1 & 0 & 0 & 0 \\\\\n",
       "0 & 0 & 0 & 0 & 0 & 1 & 0 & 0 \\\\\n",
       "\\hline\n",
       " 0 & 0 & 1 & 0 & 0 & 0 & 0 & 0 \\\\\n",
       "0 & 0 & 0 & 1 & 0 & 0 & 0 & 0 \\\\\n",
       "\\hline\n",
       " 0 & 0 & 0 & 0 & 0 & 0 & 1 & 0 \\\\\n",
       "0 & 0 & 0 & 0 & 0 & 0 & 0 & 1\n",
       "\\end{array}\\right)$"
      ],
      "text/plain": [
       "[1 0|0 0|0 0|0 0]\n",
       "[0 1|0 0|0 0|0 0]\n",
       "[---+---+---+---]\n",
       "[0 0|0 0|1 0|0 0]\n",
       "[0 0|0 0|0 1|0 0]\n",
       "[---+---+---+---]\n",
       "[0 0|1 0|0 0|0 0]\n",
       "[0 0|0 1|0 0|0 0]\n",
       "[---+---+---+---]\n",
       "[0 0|0 0|0 0|1 0]\n",
       "[0 0|0 0|0 0|0 1]"
      ]
     },
     "metadata": {},
     "output_type": "display_data"
    }
   ],
   "source": [
    "#S21=s*I\n",
    "S_21=S.tensor_product(I_d)\n",
    "show(S_21)"
   ]
  },
  {
   "cell_type": "code",
   "execution_count": 53,
   "id": "207b99b5-1ffd-4bb3-9d7d-c509149d98b6",
   "metadata": {},
   "outputs": [
    {
     "data": {
      "text/html": [
       "<html>\\(\\displaystyle \\left(\\begin{array}{rrrrrrrr}\n",
       "1 & 0 & 0 & 0 & 0 & 0 & 0 & 0 \\\\\n",
       "0 & 0 & 0 & 0 & 0 & 1 & 0 & 0 \\\\\n",
       "0 & 0 & 1 & 0 & 0 & 0 & 0 & 0 \\\\\n",
       "0 & 0 & 0 & 0 & 0 & 0 & 0 & 1 \\\\\n",
       "0 & 0 & 0 & 0 & 1 & 0 & 0 & 0 \\\\\n",
       "0 & 1 & 0 & 0 & 0 & 0 & 0 & 0 \\\\\n",
       "0 & 0 & 0 & 0 & 0 & 0 & 1 & 0 \\\\\n",
       "0 & 0 & 0 & 1 & 0 & 0 & 0 & 0\n",
       "\\end{array}\\right)\\)</html>"
      ],
      "text/latex": [
       "$\\displaystyle \\left(\\begin{array}{rrrrrrrr}\n",
       "1 & 0 & 0 & 0 & 0 & 0 & 0 & 0 \\\\\n",
       "0 & 0 & 0 & 0 & 0 & 1 & 0 & 0 \\\\\n",
       "0 & 0 & 1 & 0 & 0 & 0 & 0 & 0 \\\\\n",
       "0 & 0 & 0 & 0 & 0 & 0 & 0 & 1 \\\\\n",
       "0 & 0 & 0 & 0 & 1 & 0 & 0 & 0 \\\\\n",
       "0 & 1 & 0 & 0 & 0 & 0 & 0 & 0 \\\\\n",
       "0 & 0 & 0 & 0 & 0 & 0 & 1 & 0 \\\\\n",
       "0 & 0 & 0 & 1 & 0 & 0 & 0 & 0\n",
       "\\end{array}\\right)$"
      ],
      "text/plain": [
       "[1 0 0 0 0 0 0 0]\n",
       "[0 0 0 0 0 1 0 0]\n",
       "[0 0 1 0 0 0 0 0]\n",
       "[0 0 0 0 0 0 0 1]\n",
       "[0 0 0 0 1 0 0 0]\n",
       "[0 1 0 0 0 0 0 0]\n",
       "[0 0 0 0 0 0 1 0]\n",
       "[0 0 0 1 0 0 0 0]"
      ]
     },
     "metadata": {},
     "output_type": "display_data"
    }
   ],
   "source": [
    "#C02\n",
    "O=S_21 *M*S_21\n",
    "show(O)\n",
    "                                                                                                                                                                           "
   ]
  },
  {
   "cell_type": "code",
   "execution_count": 54,
   "id": "a529450e-ef3f-4ad9-ab3d-42fc31df4ae3",
   "metadata": {},
   "outputs": [
    {
     "data": {
      "text/html": [
       "<html>\\(\\displaystyle \\left(\\begin{array}{rrrrrrrr}\n",
       "1 & 0 & 0 & 0 & 0 & 0 & 0 & 0 \\\\\n",
       "0 & 0 & 0 & 0 & 0 & 0 & 0 & 1 \\\\\n",
       "0 & 0 & 0 & 0 & 0 & 0 & 1 & 0 \\\\\n",
       "0 & 1 & 0 & 0 & 0 & 0 & 0 & 0 \\\\\n",
       "0 & 0 & 0 & 0 & 1 & 0 & 0 & 0 \\\\\n",
       "0 & 0 & 0 & 1 & 0 & 0 & 0 & 0 \\\\\n",
       "0 & 0 & 1 & 0 & 0 & 0 & 0 & 0 \\\\\n",
       "0 & 0 & 0 & 0 & 0 & 1 & 0 & 0\n",
       "\\end{array}\\right)\\)</html>"
      ],
      "text/latex": [
       "$\\displaystyle \\left(\\begin{array}{rrrrrrrr}\n",
       "1 & 0 & 0 & 0 & 0 & 0 & 0 & 0 \\\\\n",
       "0 & 0 & 0 & 0 & 0 & 0 & 0 & 1 \\\\\n",
       "0 & 0 & 0 & 0 & 0 & 0 & 1 & 0 \\\\\n",
       "0 & 1 & 0 & 0 & 0 & 0 & 0 & 0 \\\\\n",
       "0 & 0 & 0 & 0 & 1 & 0 & 0 & 0 \\\\\n",
       "0 & 0 & 0 & 1 & 0 & 0 & 0 & 0 \\\\\n",
       "0 & 0 & 1 & 0 & 0 & 0 & 0 & 0 \\\\\n",
       "0 & 0 & 0 & 0 & 0 & 1 & 0 & 0\n",
       "\\end{array}\\right)$"
      ],
      "text/plain": [
       "[1 0 0 0 0 0 0 0]\n",
       "[0 0 0 0 0 0 0 1]\n",
       "[0 0 0 0 0 0 1 0]\n",
       "[0 1 0 0 0 0 0 0]\n",
       "[0 0 0 0 1 0 0 0]\n",
       "[0 0 0 1 0 0 0 0]\n",
       "[0 0 1 0 0 0 0 0]\n",
       "[0 0 0 0 0 1 0 0]"
      ]
     },
     "metadata": {},
     "output_type": "display_data"
    }
   ],
   "source": [
    "#CO2C12C01\n",
    "\n",
    "P=O*N*M\n",
    "show(P)"
   ]
  },
  {
   "cell_type": "code",
   "execution_count": 55,
   "id": "81259183-3d76-4769-95f6-bef2d38f62ee",
   "metadata": {},
   "outputs": [
    {
     "data": {
      "text/html": [
       "<html>\\(\\displaystyle \\left(\\begin{array}{rrrrrrrr}\n",
       "1 & 0 & 0 & 0 & 0 & 0 & 0 & 0 \\\\\n",
       "0 & 0 & 0 & 0 & 0 & 0 & 0 & 1 \\\\\n",
       "0 & 0 & 0 & 0 & 0 & 0 & 1 & 0 \\\\\n",
       "0 & 1 & 0 & 0 & 0 & 0 & 0 & 0 \\\\\n",
       "0 & 0 & 0 & 0 & 1 & 0 & 0 & 0 \\\\\n",
       "0 & 0 & 0 & 1 & 0 & 0 & 0 & 0 \\\\\n",
       "0 & 0 & 1 & 0 & 0 & 0 & 0 & 0 \\\\\n",
       "0 & 0 & 0 & 0 & 0 & 1 & 0 & 0\n",
       "\\end{array}\\right)\\)</html>"
      ],
      "text/latex": [
       "$\\displaystyle \\left(\\begin{array}{rrrrrrrr}\n",
       "1 & 0 & 0 & 0 & 0 & 0 & 0 & 0 \\\\\n",
       "0 & 0 & 0 & 0 & 0 & 0 & 0 & 1 \\\\\n",
       "0 & 0 & 0 & 0 & 0 & 0 & 1 & 0 \\\\\n",
       "0 & 1 & 0 & 0 & 0 & 0 & 0 & 0 \\\\\n",
       "0 & 0 & 0 & 0 & 1 & 0 & 0 & 0 \\\\\n",
       "0 & 0 & 0 & 1 & 0 & 0 & 0 & 0 \\\\\n",
       "0 & 0 & 1 & 0 & 0 & 0 & 0 & 0 \\\\\n",
       "0 & 0 & 0 & 0 & 0 & 1 & 0 & 0\n",
       "\\end{array}\\right)$"
      ],
      "text/plain": [
       "[1 0 0 0 0 0 0 0]\n",
       "[0 0 0 0 0 0 0 1]\n",
       "[0 0 0 0 0 0 1 0]\n",
       "[0 1 0 0 0 0 0 0]\n",
       "[0 0 0 0 1 0 0 0]\n",
       "[0 0 0 1 0 0 0 0]\n",
       "[0 0 1 0 0 0 0 0]\n",
       "[0 0 0 0 0 1 0 0]"
      ]
     },
     "metadata": {},
     "output_type": "display_data"
    }
   ],
   "source": [
    "Q=M*N\n",
    "show(Q)"
   ]
  },
  {
   "cell_type": "markdown",
   "id": "fe8e3c89-214a-4bd5-adc9-7b8099a667da",
   "metadata": {},
   "source": [
    "Therefore P=Q "
   ]
  },
  {
   "cell_type": "code",
   "execution_count": null,
   "id": "ec6f92ba-a8de-4f88-b471-1973c68a58a4",
   "metadata": {},
   "outputs": [],
   "source": []
  },
  {
   "cell_type": "markdown",
   "id": "31131e27-6dfb-484f-a801-af1be587370e",
   "metadata": {},
   "source": [
    "(c)"
   ]
  },
  {
   "cell_type": "code",
   "execution_count": 56,
   "id": "c9991795-b8b1-4578-a498-7b1485d661a3",
   "metadata": {},
   "outputs": [
    {
     "data": {
      "text/html": [
       "<html>\\(\\displaystyle \\left(\\begin{array}{rrrrrrrr}\n",
       "1 & 0 & 0 & 0 & 0 & 0 & 0 & 0 \\\\\n",
       "0 & 0 & 0 & 0 & 0 & 0 & 0 & 1 \\\\\n",
       "0 & 0 & 1 & 0 & 0 & 0 & 0 & 0 \\\\\n",
       "0 & 0 & 0 & 0 & 0 & 1 & 0 & 0 \\\\\n",
       "0 & 0 & 0 & 0 & 1 & 0 & 0 & 0 \\\\\n",
       "0 & 0 & 0 & 1 & 0 & 0 & 0 & 0 \\\\\n",
       "0 & 0 & 0 & 0 & 0 & 0 & 1 & 0 \\\\\n",
       "0 & 1 & 0 & 0 & 0 & 0 & 0 & 0\n",
       "\\end{array}\\right)\\)</html>"
      ],
      "text/latex": [
       "$\\displaystyle \\left(\\begin{array}{rrrrrrrr}\n",
       "1 & 0 & 0 & 0 & 0 & 0 & 0 & 0 \\\\\n",
       "0 & 0 & 0 & 0 & 0 & 0 & 0 & 1 \\\\\n",
       "0 & 0 & 1 & 0 & 0 & 0 & 0 & 0 \\\\\n",
       "0 & 0 & 0 & 0 & 0 & 1 & 0 & 0 \\\\\n",
       "0 & 0 & 0 & 0 & 1 & 0 & 0 & 0 \\\\\n",
       "0 & 0 & 0 & 1 & 0 & 0 & 0 & 0 \\\\\n",
       "0 & 0 & 0 & 0 & 0 & 0 & 1 & 0 \\\\\n",
       "0 & 1 & 0 & 0 & 0 & 0 & 0 & 0\n",
       "\\end{array}\\right)$"
      ],
      "text/plain": [
       "[1 0 0 0 0 0 0 0]\n",
       "[0 0 0 0 0 0 0 1]\n",
       "[0 0 1 0 0 0 0 0]\n",
       "[0 0 0 0 0 1 0 0]\n",
       "[0 0 0 0 1 0 0 0]\n",
       "[0 0 0 1 0 0 0 0]\n",
       "[0 0 0 0 0 0 1 0]\n",
       "[0 1 0 0 0 0 0 0]"
      ]
     },
     "metadata": {},
     "output_type": "display_data"
    }
   ],
   "source": [
    "#C2C01C12\n",
    "L=N*M*N\n",
    "show(L)"
   ]
  },
  {
   "cell_type": "code",
   "execution_count": 57,
   "id": "fcc050c9-89f0-4ebc-9301-5c037861e3f5",
   "metadata": {},
   "outputs": [
    {
     "data": {
      "text/html": [
       "<html>\\(\\displaystyle \\left(\\begin{array}{rrrrrrrr}\n",
       "1 & 0 & 0 & 0 & 0 & 0 & 0 & 0 \\\\\n",
       "0 & 0 & 0 & 0 & 0 & 0 & 0 & 1 \\\\\n",
       "0 & 0 & 1 & 0 & 0 & 0 & 0 & 0 \\\\\n",
       "0 & 0 & 0 & 0 & 0 & 1 & 0 & 0 \\\\\n",
       "0 & 0 & 0 & 0 & 1 & 0 & 0 & 0 \\\\\n",
       "0 & 0 & 0 & 1 & 0 & 0 & 0 & 0 \\\\\n",
       "0 & 0 & 0 & 0 & 0 & 0 & 1 & 0 \\\\\n",
       "0 & 1 & 0 & 0 & 0 & 0 & 0 & 0\n",
       "\\end{array}\\right)\\)</html>"
      ],
      "text/latex": [
       "$\\displaystyle \\left(\\begin{array}{rrrrrrrr}\n",
       "1 & 0 & 0 & 0 & 0 & 0 & 0 & 0 \\\\\n",
       "0 & 0 & 0 & 0 & 0 & 0 & 0 & 1 \\\\\n",
       "0 & 0 & 1 & 0 & 0 & 0 & 0 & 0 \\\\\n",
       "0 & 0 & 0 & 0 & 0 & 1 & 0 & 0 \\\\\n",
       "0 & 0 & 0 & 0 & 1 & 0 & 0 & 0 \\\\\n",
       "0 & 0 & 0 & 1 & 0 & 0 & 0 & 0 \\\\\n",
       "0 & 0 & 0 & 0 & 0 & 0 & 1 & 0 \\\\\n",
       "0 & 1 & 0 & 0 & 0 & 0 & 0 & 0\n",
       "\\end{array}\\right)$"
      ],
      "text/plain": [
       "[1 0 0 0 0 0 0 0]\n",
       "[0 0 0 0 0 0 0 1]\n",
       "[0 0 1 0 0 0 0 0]\n",
       "[0 0 0 0 0 1 0 0]\n",
       "[0 0 0 0 1 0 0 0]\n",
       "[0 0 0 1 0 0 0 0]\n",
       "[0 0 0 0 0 0 1 0]\n",
       "[0 1 0 0 0 0 0 0]"
      ]
     },
     "metadata": {},
     "output_type": "display_data"
    }
   ],
   "source": [
    "#C02C01\n",
    "R=O*M\n",
    "show(R)"
   ]
  },
  {
   "cell_type": "markdown",
   "id": "d1770ff9-a196-4308-894b-ced48bd44bf9",
   "metadata": {},
   "source": [
    "Therefore L=R"
   ]
  },
  {
   "cell_type": "code",
   "execution_count": null,
   "id": "ec9478b5-1825-4db0-a521-e625fc95fd28",
   "metadata": {},
   "outputs": [],
   "source": []
  },
  {
   "cell_type": "code",
   "execution_count": null,
   "id": "582cacd1-ebb4-4bf9-b03b-42f4ae8849fb",
   "metadata": {},
   "outputs": [],
   "source": []
  },
  {
   "cell_type": "code",
   "execution_count": null,
   "id": "6c04a06c-2a09-45f8-8a13-aba410ed3498",
   "metadata": {},
   "outputs": [],
   "source": []
  },
  {
   "cell_type": "code",
   "execution_count": null,
   "id": "41b66e80-a407-4ff4-b462-1c9ed783b1ee",
   "metadata": {},
   "outputs": [],
   "source": []
  }
 ],
 "metadata": {
  "kernelspec": {
   "display_name": "SageMath 10.4",
   "language": "sage",
   "name": "sagemath"
  },
  "language_info": {
   "codemirror_mode": {
    "name": "ipython",
    "version": 3
   },
   "file_extension": ".py",
   "mimetype": "text/x-python",
   "name": "python",
   "nbconvert_exporter": "python",
   "pygments_lexer": "ipython3",
   "version": "3.11.2"
  }
 },
 "nbformat": 4,
 "nbformat_minor": 5
}
